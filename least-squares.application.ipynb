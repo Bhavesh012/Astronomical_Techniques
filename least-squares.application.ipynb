{
 "cells": [
  {
   "cell_type": "markdown",
   "metadata": {
    "slideshow": {
     "slide_type": "slide"
    }
   },
   "source": [
    "# Application of Least-Squares Fitting\n",
    "## the (x,y) $\\rightarrow$ (R.A., Dec.) transform\n",
    "\n",
    "![](media/xyrd.png)\n",
    "\n",
    "### Prof. Robert Quimby\n",
    "&copy; 2019 Robert Quimby"
   ]
  },
  {
   "cell_type": "markdown",
   "metadata": {
    "slideshow": {
     "slide_type": "slide"
    }
   },
   "source": [
    "## In this tutorial you will..."
   ]
  },
  {
   "cell_type": "markdown",
   "metadata": {},
   "source": [
    "- Learn about one way to map points on the Celestial Sphere onto a plane\n",
    "- Write down a simple linear transform from $(x, y)$ to (R.A., Dec.)\n",
    "- Match the $(x, y)$ positions of a few stars to (R.A., Dec.) positions\n",
    "- Find the best fitting model parameters (in the least-squares sense)\n",
    "- Use the best-fit solution to predict the (R.A., Dec.) positions of other stars"
   ]
  },
  {
   "cell_type": "markdown",
   "metadata": {
    "slideshow": {
     "slide_type": "slide"
    }
   },
   "source": [
    "## Load the `example.fits` image"
   ]
  },
  {
   "cell_type": "code",
   "execution_count": null,
   "metadata": {
    "collapsed": true
   },
   "outputs": [],
   "source": [
    "# Launch DS9\n",
    "import pyds9\n",
    "ds9 = pyds9.DS9()"
   ]
  },
  {
   "cell_type": "code",
   "execution_count": null,
   "metadata": {
    "collapsed": true,
    "slideshow": {
     "slide_type": "subslide"
    }
   },
   "outputs": [],
   "source": [
    "# display the example image in ds9\n",
    "ds9.set('file media/example.fits')\n",
    "ds9.set('scale zscale')"
   ]
  },
  {
   "cell_type": "markdown",
   "metadata": {
    "slideshow": {
     "slide_type": "slide"
    }
   },
   "source": [
    "## Projecting the Celestial Sphere onto a plane"
   ]
  },
  {
   "cell_type": "markdown",
   "metadata": {
    "slideshow": {
     "slide_type": "notes"
    }
   },
   "source": [
    "* note that this image lacks WCS info, so there is no RA, DEC in ds9"
   ]
  },
  {
   "cell_type": "markdown",
   "metadata": {},
   "source": [
    "![](https://www.researchgate.net/profile/Anuj_Srivastava5/publication/232230519/figure/fig3/AS:341657951195157@1458469011236/Projection-from-the-unit-sphere-S-to-the-tangent-space-T-id-v-i-blue-dot-is-the.png)"
   ]
  },
  {
   "cell_type": "markdown",
   "metadata": {},
   "source": [
    "* How do we map the curved celestial sphere onto a the (x, y) plane?\n",
    "\n",
    "* There are many choices. A good option, especially when we only care about a small patch on the celestial sphere, is to use a [gnomonic projection](https://en.wikipedia.org/wiki/Gnomonic_projection).\n",
    "\n",
    "* In astronomy, we call this the TAN projection, because we are projecting the celestial coordinates on to a plane that is tangent to a single point on the celestial sphere.\n",
    "\n",
    "* This tangent point is sometimes called the reference point\n"
   ]
  },
  {
   "cell_type": "markdown",
   "metadata": {
    "slideshow": {
     "slide_type": "subslide"
    }
   },
   "source": [
    "### Start with the coordinates of the reference point\n",
    "\n",
    "* on the Celestial Sphere: $(R_0, D_0)$\n",
    "* on the tangent plane: $(x_0, y_0)$"
   ]
  },
  {
   "cell_type": "markdown",
   "metadata": {
    "slideshow": {
     "slide_type": "fragment"
    }
   },
   "source": [
    "### Moving away from the reference point\n",
    "\n",
    "* if we move from $(R_0, D_0) \\rightarrow (R_i, D_i)$\n",
    "* we also move from $(x_0, y_0) \\rightarrow (x_i, y_i)$\n",
    "* so we need relations between $R_i$ and $x_i$ (and $y_i$), and $D_i$ and $y_i$ (and $x_i$)"
   ]
  },
  {
   "cell_type": "markdown",
   "metadata": {
    "slideshow": {
     "slide_type": "subslide"
    }
   },
   "source": [
    "### We can express the coordinate transformation from (x, y) to (R.A., Dec.) as\n",
    "$$ R_i = R_0 + a(x_i - x_0) + b(y_i - y_0) $$\n",
    "$$ D_i = D_0 + c(x_i - x_0) + d(y_i - y_0) $$\n",
    "\n",
    "* If we pick $(x_0, y_0)$ on our image, we are left with 6 unknowns\n",
    "* We must solve for these to determine our \"plate solution\""
   ]
  },
  {
   "cell_type": "markdown",
   "metadata": {
    "slideshow": {
     "slide_type": "slide"
    }
   },
   "source": [
    "## We can solve for all 6 parameters at once"
   ]
  },
  {
   "cell_type": "markdown",
   "metadata": {},
   "source": [
    "$$ R_i = R_0 + a(x_i - x_0) + b(y_i - y_0) $$\n",
    "$$ D_i = D_0 + c(x_i - x_0) + d(y_i - y_0) $$\n",
    "\n",
    "Express the equations above in the form $Y = Xp$"
   ]
  },
  {
   "cell_type": "markdown",
   "metadata": {
    "slideshow": {
     "slide_type": "fragment"
    }
   },
   "source": [
    "$$\n",
    "\\left[ \\begin{array}{c}\n",
    "R_1  \\\\\n",
    " \\vdots  \\\\\n",
    "R_N  \\\\\n",
    "D_1  \\\\\n",
    " \\vdots  \\\\\n",
    "D_N \\end{array} \\right] = \\left[ \\begin{array}{cccccc}\n",
    "1 & (x_1-x_0) & (y_1-y_0) & 0 & 0 & 0 \\\\\n",
    " \\vdots & \\vdots & \\vdots &  \\vdots & \\vdots & \\vdots \\\\\n",
    "1 & (x_N-x_0) & (y_N-y_0) & 0 & 0 & 0 \\\\\n",
    "0 & 0 & 0 & 1 & (x_1-x_0) & (y_1-y_0) \\\\\n",
    " \\vdots & \\vdots & \\vdots &  \\vdots & \\vdots & \\vdots \\\\\n",
    "0 & 0 & 0 & 1 & (x_N-x_0) & (y_N-y_0) \\end{array} \\right] \n",
    "\\left[ \\begin{array}{c}\n",
    "R_0 \\\\\n",
    "a \\\\\n",
    "b \\\\\n",
    "D_0 \\\\\n",
    "c \\\\\n",
    "d \\end{array} \\right] $$\n"
   ]
  },
  {
   "cell_type": "markdown",
   "metadata": {
    "slideshow": {
     "slide_type": "slide"
    }
   },
   "source": [
    "## Match `example.fits` objects to a POSS image (with astrometry)"
   ]
  },
  {
   "cell_type": "markdown",
   "metadata": {},
   "source": [
    "Load the POSS image into a new frame:\n",
    " * \"Analysis\" --> \"Image Servers\" --> \"DSS (STSCI)\"\n",
    " * use the R.A. and Dec. from the `example.fits` header"
   ]
  },
  {
   "cell_type": "markdown",
   "metadata": {
    "slideshow": {
     "slide_type": "subslide"
    }
   },
   "source": [
    "### Need the (x, y) position for a stars with known (R.A., Dec.)"
   ]
  },
  {
   "cell_type": "markdown",
   "metadata": {},
   "source": [
    "* put green circles around a few stars on the MLO image\n",
    "  * \"Region\" --> \"Save Regions...\"\n",
    "  * save the \"Physical\" data in \"X Y\" format as \"ds9.xy\"\n",
    "* put green circles around the same stars in the POSS image\n",
    "  * \"Region\" --> \"Save Regions...\"\n",
    "  * save the \"fk5\" data in \"X Y\" format **and in degrees** as \"ds9.rd\""
   ]
  },
  {
   "cell_type": "markdown",
   "metadata": {
    "slideshow": {
     "slide_type": "slide"
    }
   },
   "source": [
    "## Solve for the Plate Solution Using Python"
   ]
  },
  {
   "cell_type": "markdown",
   "metadata": {},
   "source": [
    "### Step 1: load the data into pyton"
   ]
  },
  {
   "cell_type": "code",
   "execution_count": null,
   "metadata": {
    "collapsed": true,
    "slideshow": {
     "slide_type": "fragment"
    }
   },
   "outputs": [],
   "source": [
    "# load the (x, y) and (RA, Dec.) data\n",
    "import numpy as np\n",
    "xydata = np.genfromtxt('media/example.xy.reg', names='x, y')\n",
    "rddata = np.genfromtxt('media/example.rd.reg', names='ra, dec')\n",
    "\n",
    "# define the tangent point in x, y\n",
    "x0, y0 = ????\n",
    "print(x0, y0)"
   ]
  },
  {
   "cell_type": "markdown",
   "metadata": {
    "slideshow": {
     "slide_type": "slide"
    }
   },
   "source": [
    "### Step 2: build the $Y$ and $X$ matricies"
   ]
  },
  {
   "cell_type": "code",
   "execution_count": null,
   "metadata": {
    "collapsed": true,
    "slideshow": {
     "slide_type": "fragment"
    }
   },
   "outputs": [],
   "source": [
    "# function to set up the Y matrix\n",
    "def get_Y_matrix(ras, decs):\n",
    "    Y = []\n",
    "    for ra in ras:\n",
    "        Y.append(????)\n",
    "    for dec in decs:\n",
    "        Y.append(????)\n",
    "    return np.matrix(Y)\n",
    "\n",
    "Y = get_Y_matrix(????)"
   ]
  },
  {
   "cell_type": "code",
   "execution_count": null,
   "metadata": {
    "collapsed": true,
    "slideshow": {
     "slide_type": "fragment"
    }
   },
   "outputs": [],
   "source": [
    "# function to set up the X matrix\n",
    "def get_X_matrix(dxs, dys):\n",
    "    X = []\n",
    "    for dx, dy in zip(dxs, dys):\n",
    "        X.append(????)\n",
    "    for dx, dy in zip(dxs, dys):\n",
    "        X.append(????)\n",
    "    return np.matrix(X)\n",
    "\n",
    "X = get_X_matrix(????)"
   ]
  },
  {
   "cell_type": "markdown",
   "metadata": {
    "slideshow": {
     "slide_type": "slide"
    }
   },
   "source": [
    "### Step 3: solve for $p$"
   ]
  },
  {
   "cell_type": "code",
   "execution_count": null,
   "metadata": {
    "collapsed": true,
    "slideshow": {
     "slide_type": "fragment"
    }
   },
   "outputs": [],
   "source": [
    "# fit using least-squares\n",
    "p = ????"
   ]
  },
  {
   "cell_type": "markdown",
   "metadata": {
    "slideshow": {
     "slide_type": "slide"
    }
   },
   "source": [
    "## Use the solution to find the R.A., Dec. of another star"
   ]
  },
  {
   "cell_type": "code",
   "execution_count": null,
   "metadata": {
    "collapsed": true
   },
   "outputs": [],
   "source": [
    "xs = [????]\n",
    "ys = [????]\n",
    "\n",
    "X = get_X_matrix(xs, ys)\n",
    "????"
   ]
  }
 ],
 "metadata": {
  "kernelspec": {
   "display_name": "Python 3",
   "language": "python",
   "name": "python3"
  },
  "language_info": {
   "codemirror_mode": {
    "name": "ipython",
    "version": 3
   },
   "file_extension": ".py",
   "mimetype": "text/x-python",
   "name": "python",
   "nbconvert_exporter": "python",
   "pygments_lexer": "ipython3",
   "version": "3.5.4"
  },
  "livereveal": {
   "scroll": "True",
   "start_slideshow_at": "selected"
  }
 },
 "nbformat": 4,
 "nbformat_minor": 1
}
