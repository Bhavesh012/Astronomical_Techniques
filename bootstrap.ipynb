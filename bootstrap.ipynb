{
 "cells": [
  {
   "cell_type": "markdown",
   "metadata": {
    "slideshow": {
     "slide_type": "subslide"
    }
   },
   "source": [
    "# Bootstrap\n",
    "## Turning 1 set of data into many by resampling with replacement (and then using these samples to evaluate the accuracy of your analysis)\n",
    "\n",
    "\n",
    "### Prof. Robert Quimby\n",
    "&copy; 2020 Robert Quimby"
   ]
  },
  {
   "cell_type": "markdown",
   "metadata": {
    "slideshow": {
     "slide_type": "slide"
    }
   },
   "source": [
    "## In this tutorial you will..."
   ]
  },
  {
   "cell_type": "markdown",
   "metadata": {},
   "source": [
    "- Be introduced to the bootstrap resampling technique\n",
    "- Use bootstrap resampling to determine uncertainty in a result\n",
    "- Compare the uncertainty from bootstrap and standard uncertainty propagation techniques\n",
    "- Apply bootstrap techniques where standard uncertainty propagation cannot be done\n",
    "- Hear about the related Jackknife resampling method"
   ]
  },
  {
   "cell_type": "markdown",
   "metadata": {
    "slideshow": {
     "slide_type": "slide"
    }
   },
   "source": [
    "## Bootstrap method"
   ]
  },
  {
   "cell_type": "markdown",
   "metadata": {
    "slideshow": {
     "slide_type": "-"
    }
   },
   "source": [
    "1. Start with a data sample comprised of $N$ values, $A=[x_1, x_2, x_3, \\ldots, x_N]$\n",
    "  - For accurate results, $N$ must be reasonably large (e.g., $N>30$ if the distribution is Gaussian)."
   ]
  },
  {
   "cell_type": "markdown",
   "metadata": {
    "slideshow": {
     "slide_type": "fragment"
    }
   },
   "source": [
    "2. Derive what ever statistic$-$let us call it $\\theta$$-$you want from the sample.\n",
    "  - For example, $\\theta(A)$ might be the mean, median, or standard deviation of sample $A$."
   ]
  },
  {
   "cell_type": "markdown",
   "metadata": {
    "slideshow": {
     "slide_type": "subslide"
    }
   },
   "source": [
    "3. Create a new sample, $B$, by randomly drawing $N$ values from $A$ with *replacement*. \n",
    "  - Replacement just means that after you have drawn a value from $A$, you put that value back into $A$ so that the next random draw has a chance to select that same value again. \n",
    "  - This means that the new sample, $B$, may include zero, one or more copies of each $x_i$ value."
   ]
  },
  {
   "cell_type": "markdown",
   "metadata": {
    "slideshow": {
     "slide_type": "fragment"
    }
   },
   "source": [
    "4. Apply the same analysis as before to sample $B$ to determine the statistic, $\\theta(B)$."
   ]
  },
  {
   "cell_type": "markdown",
   "metadata": {
    "slideshow": {
     "slide_type": "subslide"
    }
   },
   "source": [
    "5. Record your statistic for this sample and then repeat steps 3 and 4 above a total of $M$ times.\n",
    "  - $M$ should be large enough to capture the range of permutations possible in $A$"
   ]
  },
  {
   "cell_type": "markdown",
   "metadata": {
    "slideshow": {
     "slide_type": "fragment"
    }
   },
   "source": [
    "6. Use the *distribution* of $\\theta(B)$ values to estimate the uncertainty of $\\theta(A)$"
   ]
  },
  {
   "cell_type": "markdown",
   "metadata": {
    "slideshow": {
     "slide_type": "slide"
    }
   },
   "source": [
    "## Recall: statistical uncertainty"
   ]
  },
  {
   "cell_type": "markdown",
   "metadata": {},
   "source": [
    "When you report the uncertainty of a measurement, you are telling other astronomers the range of values they can expect to obtain if they repeat your experiment exactly (this is true at least for ordinary, \"frequentist\" statistics)."
   ]
  },
  {
   "cell_type": "markdown",
   "metadata": {
    "slideshow": {
     "slide_type": "slide"
    }
   },
   "source": [
    "## Determining uncertainty through bootstrapping"
   ]
  },
  {
   "cell_type": "markdown",
   "metadata": {},
   "source": [
    "Each sample drawn from its parent distribution provides information about the parent distribution.\n",
    "\n",
    "So drawing from a sample is similar to drawing directly from the parent.\n",
    "\n",
    "Repeated draws from a sample can be used to approximate repeated draws from the parent. "
   ]
  },
  {
   "cell_type": "markdown",
   "metadata": {},
   "source": [
    "- Bootstrapping is a process that allows you to estimate the range of possible outcomes by using the **sample** population of your data as a stand-in for the **parent** population provided by the Universe. \n",
    "\n",
    "- If your sample is large enough it will span the range of possibilities offered by the Universe, so you can randomly draw test data from your existing sample to determine the range of results that others may find through new observations of the Universe. \n",
    "\n",
    "- Thus repeating this random selection many times can predict the range of possible results of your experiment, and this can be used to derive the uncertainty in your measurement. "
   ]
  },
  {
   "cell_type": "markdown",
   "metadata": {
    "slideshow": {
     "slide_type": "subslide"
    }
   },
   "source": [
    "### Example: average brightness of a star"
   ]
  },
  {
   "cell_type": "code",
   "execution_count": null,
   "metadata": {},
   "outputs": [],
   "source": [
    "import numpy as np\n",
    "def get_star_observations(mag=18.5, emag=0.2, nobs=50, varmag=0):\n",
    "    dtype = [('mjd', float), ('mag', float), ('emag', float)]\n",
    "    sample = np.zeros(nobs, dtype=dtype)\n",
    "    sample['mjd'] = 59000 + np.random.uniform(0, nobs, size=nobs)\n",
    "    sigma = np.sqrt(emag**2 + varmag**2)\n",
    "    sample['mag'] = np.random.normal(mag, sigma, size=nobs)\n",
    "    sample['emag'] = emag\n",
    "    return sample"
   ]
  },
  {
   "cell_type": "code",
   "execution_count": null,
   "metadata": {
    "slideshow": {
     "slide_type": "subslide"
    }
   },
   "outputs": [],
   "source": [
    "# make a set of observations\n",
    "my_sample = get_star_observations()\n",
    "\n",
    "# perform some analysis on the sample to produce a result\n",
    "def analysis(sample):\n",
    "    return ????\n",
    "\n",
    "my_result = analysis(my_sample)\n",
    "print(f'{my_result:0.3f}')"
   ]
  },
  {
   "cell_type": "code",
   "execution_count": null,
   "metadata": {
    "slideshow": {
     "slide_type": "slide"
    }
   },
   "outputs": [],
   "source": [
    "# other astronomers conduct the same experiment\n",
    "nastronomers = ???\n",
    "their_results = [???? for i in range(nastronomers)]"
   ]
  },
  {
   "cell_type": "code",
   "execution_count": null,
   "metadata": {
    "slideshow": {
     "slide_type": "fragment"
    }
   },
   "outputs": [],
   "source": [
    "%matplotlib inline\n",
    "import matplotlib.pyplot as plt\n",
    "plt.hist(their_results, bins=100);"
   ]
  },
  {
   "cell_type": "code",
   "execution_count": null,
   "metadata": {
    "scrolled": true,
    "slideshow": {
     "slide_type": "slide"
    }
   },
   "outputs": [],
   "source": [
    "avg_of_their_results = np.mean(their_results)\n",
    "std_of_their_results = np.std(their_results, ddof=1)\n",
    "print(f'{avg_of_their_results:0.3f} +/- {std_of_their_results:0.3f}')"
   ]
  },
  {
   "cell_type": "code",
   "execution_count": null,
   "metadata": {
    "slideshow": {
     "slide_type": "fragment"
    }
   },
   "outputs": [],
   "source": [
    "# uncertainty in my result (using uncertainty propagation formula)\n",
    "# recall: my_result = np.sum(sample['mag']) / sample.size\n",
    "my_uncertainty = ????\n",
    "print(f'{my_result:0.3f} +/- {my_uncertainty:0.3f}')"
   ]
  },
  {
   "cell_type": "markdown",
   "metadata": {
    "slideshow": {
     "slide_type": "slide"
    }
   },
   "source": [
    "### Estimating the uncertainty through bootstrapping "
   ]
  },
  {
   "cell_type": "code",
   "execution_count": null,
   "metadata": {
    "slideshow": {
     "slide_type": "-"
    }
   },
   "outputs": [],
   "source": [
    "def bootstrap_dist(sample, func, m=10000):\n",
    "    dist = np.zeros(m)\n",
    "    for i in range(m):\n",
    "        resample = ????\n",
    "        dist[i] = func(resample)\n",
    "    return dist"
   ]
  },
  {
   "cell_type": "code",
   "execution_count": null,
   "metadata": {
    "scrolled": true,
    "slideshow": {
     "slide_type": "subslide"
    }
   },
   "outputs": [],
   "source": [
    "# bootstrap to find the uncertainty in the result\n",
    "sample = get_star_observations()\n",
    "func = ????\n",
    "m = ????\n",
    "dist = bootstrap_dist(sample, func, m=m)\n",
    "\n",
    "# distribution or results from others\n",
    "plt.hist(their_results, bins=100, label='others')\n",
    "\n",
    "# estimated distribution of results from bootstrapping\n",
    "plt.hist(dist, bins=100, alpha=0.5, label='bootstrap')\n",
    "plt.axvline(func(sample), c='r', ls='--')\n",
    "plt.legend();"
   ]
  },
  {
   "cell_type": "markdown",
   "metadata": {
    "slideshow": {
     "slide_type": "subslide"
    }
   },
   "source": [
    "$$\\sigma_{\\theta(A)} \\approx \\sqrt{ {1 \\over M} \\sum_{i=1}^{M} (x_i - \\hat{x})^2} $$\n",
    "\n",
    "where $\\hat{x} = \\theta(A)$"
   ]
  },
  {
   "cell_type": "markdown",
   "metadata": {
    "slideshow": {
     "slide_type": "notes"
    }
   },
   "source": [
    "Note this differs from the usual standard deviation formula because:\n",
    "- the \"true\" median is used instead of the median of the distribution\n",
    "- because of this difference, ddof=0"
   ]
  },
  {
   "cell_type": "code",
   "execution_count": null,
   "metadata": {
    "slideshow": {
     "slide_type": "fragment"
    }
   },
   "outputs": [],
   "source": [
    "# use the bootstrap distribution to find the uncertainty\n",
    "edist = ????\n",
    "print(f\"bootstrap uncertainty is +/- {edist:.4f} mag\")"
   ]
  },
  {
   "cell_type": "markdown",
   "metadata": {
    "slideshow": {
     "slide_type": "slide"
    }
   },
   "source": [
    "### Example 2: median brightness of a star"
   ]
  },
  {
   "cell_type": "code",
   "execution_count": null,
   "metadata": {},
   "outputs": [],
   "source": [
    "def analysis2(sample):\n",
    "    sorted_mags = np.sort(sample['mag'])\n",
    "    ind1 = (sample.size - 1) // 2\n",
    "    ind2 = sample.size // 2\n",
    "    return np.sum(sorted_mags[[ind1, ind2]]) / 2\n",
    "\n",
    "my_result = analysis2(my_sample)\n",
    "print(f'{my_result:0.3f}')"
   ]
  },
  {
   "cell_type": "code",
   "execution_count": null,
   "metadata": {
    "slideshow": {
     "slide_type": "fragment"
    }
   },
   "outputs": [],
   "source": [
    "their_results = [analysis2(get_star_observations()) for i in range(nastronomers)]\n",
    "avg_of_their_results = np.mean(their_results)\n",
    "std_of_their_results = np.std(their_results, ddof=1)\n",
    "print(f'{avg_of_their_results:0.3f} +/- {std_of_their_results:0.3f}')"
   ]
  },
  {
   "cell_type": "code",
   "execution_count": null,
   "metadata": {
    "slideshow": {
     "slide_type": "subslide"
    }
   },
   "outputs": [],
   "source": [
    "# can't use uncertainty propagation formula!\n",
    "# bootstrap to find the uncertainty in the result\n",
    "func = analysis2\n",
    "dist = bootstrap_dist(sample, func)\n",
    "edist = np.sqrt(1 / m * np.sum( (dist - func(sample))**2 ))\n",
    "print(\"bootstrap uncertainty is +/- {:.4f} mag\".format(edist))"
   ]
  },
  {
   "cell_type": "markdown",
   "metadata": {
    "slideshow": {
     "slide_type": "slide"
    }
   },
   "source": [
    "## Jackknife method"
   ]
  },
  {
   "cell_type": "markdown",
   "metadata": {},
   "source": [
    "- Given $N$ data points, calculate the statistic $N$ times using subsets of the data that exclude one point each time.\n",
    "\n",
    "This can be useful for determining if a relation is driven by a single data point or reflective of the whole sample."
   ]
  },
  {
   "cell_type": "code",
   "execution_count": null,
   "metadata": {
    "slideshow": {
     "slide_type": "fragment"
    }
   },
   "outputs": [],
   "source": [
    "def jackknife_dist(sample, func):\n",
    "    dist = np.zeros(sample.size)\n",
    "    inds = np.arange(sample.size)\n",
    "    for i in range(sample.size):\n",
    "        dist[i] = func(sample[????])\n",
    "    return dist"
   ]
  },
  {
   "cell_type": "code",
   "execution_count": null,
   "metadata": {
    "scrolled": true,
    "slideshow": {
     "slide_type": "subslide"
    }
   },
   "outputs": [],
   "source": [
    "func = analysis\n",
    "dist = jackknife_dist(sample, func)\n",
    "plt.hist(dist, bins=20);\n",
    "plt.axvline(func(sample), ls='dashed', c='r')\n",
    "plt.axvline(dist.mean(), ls='dotted', c='g');"
   ]
  },
  {
   "cell_type": "code",
   "execution_count": null,
   "metadata": {
    "slideshow": {
     "slide_type": "fragment"
    }
   },
   "outputs": [],
   "source": [
    "stat_jk = np.mean(dist)\n",
    "estat_jk = np.sqrt( (sample.size - 1) / sample.size * np.sum( (dist - stat_jk)**2 ) )\n",
    "print(\"measured statistic is {:.4f}\".format(func(sample)))\n",
    "print(\"Jackknife gives {:.4f} +/- {:.4f}\".format(stat_jk, estat_jk))"
   ]
  },
  {
   "cell_type": "markdown",
   "metadata": {
    "slideshow": {
     "slide_type": "slide"
    }
   },
   "source": [
    "## `astropy` tools for bootstrapping and jackknifing"
   ]
  },
  {
   "cell_type": "code",
   "execution_count": null,
   "metadata": {},
   "outputs": [],
   "source": [
    "from astropy.stats import bootstrap\n",
    "from astropy.stats import jackknife_stats\n",
    "from astropy.stats import jackknife_resampling"
   ]
  },
  {
   "cell_type": "markdown",
   "metadata": {},
   "source": [
    "- [`astropy.stats.bootstrap`](http://docs.astropy.org/en/stable/api/astropy.stats.bootstrap.html) works similar to the `bootstrap_dist` function defined above, but note the arguments are slightly different\n",
    "\n",
    "- [`astropy.stats.jackknife_resampling`](http://docs.astropy.org/en/stable/api/astropy.stats.jackknife_resampling.html) is similar to the `jackknife_dist` function above, but it does not work with structured arrays\n",
    "\n",
    "- [`astropy.stats.jackknife_stats`](http://docs.astropy.org/en/stable/api/astropy.stats.jackknife_stats.html) performs jackknife resampling and then returns 4 values: the estimate, bias, uncertainty, and the confidence interval"
   ]
  },
  {
   "cell_type": "code",
   "execution_count": null,
   "metadata": {
    "slideshow": {
     "slide_type": "subslide"
    }
   },
   "outputs": [],
   "source": [
    "# example using astropy's bootstrap function\n",
    "dist = bootstrap(????)"
   ]
  }
 ],
 "metadata": {
  "kernelspec": {
   "display_name": "Python 3",
   "language": "python",
   "name": "python3"
  },
  "language_info": {
   "codemirror_mode": {
    "name": "ipython",
    "version": 3
   },
   "file_extension": ".py",
   "mimetype": "text/x-python",
   "name": "python",
   "nbconvert_exporter": "python",
   "pygments_lexer": "ipython3",
   "version": "3.6.10"
  },
  "livereveal": {
   "scroll": "True",
   "start_slideshow_at": "selected"
  }
 },
 "nbformat": 4,
 "nbformat_minor": 1
}
