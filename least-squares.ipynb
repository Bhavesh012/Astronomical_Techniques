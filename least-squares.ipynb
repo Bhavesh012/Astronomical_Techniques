{
 "cells": [
  {
   "cell_type": "markdown",
   "metadata": {
    "slideshow": {
     "slide_type": "slide"
    }
   },
   "source": [
    "# Least-Squares Fitting\n",
    "\n",
    "### Prof. Robert Quimby\n",
    "&copy; 2018 Robert Quimby"
   ]
  },
  {
   "cell_type": "markdown",
   "metadata": {
    "slideshow": {
     "slide_type": "slide"
    }
   },
   "source": [
    "## In this tutorial you will..."
   ]
  },
  {
   "cell_type": "markdown",
   "metadata": {},
   "source": [
    "* find the best-fit model when you have more data than model parameters\n",
    "* learn how to use `numpy.matrix` objects to do least-square fits\n",
    "* estimate the uncertainty in the best-fit model parameters"
   ]
  },
  {
   "cell_type": "markdown",
   "metadata": {
    "slideshow": {
     "slide_type": "slide"
    }
   },
   "source": [
    "## Plot some Data"
   ]
  },
  {
   "cell_type": "code",
   "execution_count": null,
   "metadata": {
    "slideshow": {
     "slide_type": "subslide"
    }
   },
   "outputs": [],
   "source": [
    "%matplotlib inline\n",
    "import matplotlib.pyplot as plt\n",
    "plt.rcParams['figure.figsize'] = (7, 5)\n",
    "\n",
    "x = [1.3, 3.4]\n",
    "y = [2.1, 5.9]\n",
    "\n",
    "plt.plot(x, y, 'ro')\n",
    "plt.xlim(0, 8)\n",
    "plt.ylim(0, 15)"
   ]
  },
  {
   "cell_type": "markdown",
   "metadata": {
    "slideshow": {
     "slide_type": "slide"
    }
   },
   "source": [
    "## Fit a Line to these Data"
   ]
  },
  {
   "cell_type": "markdown",
   "metadata": {},
   "source": [
    "$y = mx + b$"
   ]
  },
  {
   "cell_type": "markdown",
   "metadata": {
    "slideshow": {
     "slide_type": "fragment"
    }
   },
   "source": [
    "$$\n",
    "\\begin{align}\n",
    "  5.9 & =  3.4  m  +  b \\\\\n",
    "-( 2.1 & = 1.3  m  +  b) \\\\\n",
    "\\hline\n",
    "  3.8 & =  2.1  m \n",
    "\\end{align}\n",
    "$$"
   ]
  },
  {
   "cell_type": "code",
   "execution_count": null,
   "metadata": {
    "collapsed": true,
    "slideshow": {
     "slide_type": "fragment"
    }
   },
   "outputs": [],
   "source": [
    "m = \n",
    "b = "
   ]
  },
  {
   "cell_type": "markdown",
   "metadata": {
    "slideshow": {
     "slide_type": "slide"
    }
   },
   "source": [
    "## Plot the linear relation"
   ]
  },
  {
   "cell_type": "code",
   "execution_count": null,
   "metadata": {
    "slideshow": {
     "slide_type": "-"
    }
   },
   "outputs": [],
   "source": [
    "plt.plot(x, y, 'ro')\n",
    "plt.xlim(0, 8)\n",
    "plt.ylim(0, 15)\n",
    "\n",
    "import numpy as np\n",
    "modelx = np.linspace(0, 8, 10)\n",
    "modely = m * modelx + b\n",
    "plt.plot(modelx, modely, '--')"
   ]
  },
  {
   "cell_type": "markdown",
   "metadata": {
    "slideshow": {
     "slide_type": "slide"
    }
   },
   "source": [
    "## What if we want to fit a line to three points?"
   ]
  },
  {
   "cell_type": "code",
   "execution_count": null,
   "metadata": {
    "slideshow": {
     "slide_type": "-"
    }
   },
   "outputs": [],
   "source": [
    "x = [1.3, 3.4, 6.4]\n",
    "y = [2.1, 5.9, 13.5]\n",
    "plt.plot(x, y, 'ro')\n",
    "\n",
    "# overlay the model\n",
    "plt.plot(modelx, modely, '--')\n",
    "plt.xlim(0, 8)\n",
    "plt.ylim(0, 15)"
   ]
  },
  {
   "cell_type": "markdown",
   "metadata": {
    "slideshow": {
     "slide_type": "slide"
    }
   },
   "source": [
    "## Dealing with Overdetermined Data"
   ]
  },
  {
   "cell_type": "markdown",
   "metadata": {
    "slideshow": {
     "slide_type": "-"
    }
   },
   "source": [
    "* Real world measurements are imperfect!\n",
    "* Your best attempts to measure something will still have some error\n",
    "* The quantity you are trying to measure may deviate from the predictions of your model\n",
    "\n",
    "#### Therefore...\n",
    "* Three or more data points will usually **not** fix *exactly* on a line, even if you think they should"
   ]
  },
  {
   "cell_type": "markdown",
   "metadata": {
    "slideshow": {
     "slide_type": "slide"
    }
   },
   "source": [
    "## Fitting Models to Overdetermined Data"
   ]
  },
  {
   "cell_type": "markdown",
   "metadata": {
    "slideshow": {
     "slide_type": "fragment"
    }
   },
   "source": [
    "* **IF** we can assume that the deviations from our ideal model are random and follow a Gaussian distribution\n",
    "* **THEN** there is an ideal method for determining the best fitting model"
   ]
  },
  {
   "cell_type": "markdown",
   "metadata": {
    "slideshow": {
     "slide_type": "slide"
    }
   },
   "source": [
    "## Least-Squares Fitting"
   ]
  },
  {
   "cell_type": "markdown",
   "metadata": {
    "slideshow": {
     "slide_type": "-"
    }
   },
   "source": [
    "* minimize the sum of the square of the deviations from the model"
   ]
  },
  {
   "cell_type": "markdown",
   "metadata": {
    "slideshow": {
     "slide_type": "subslide"
    }
   },
   "source": [
    "### Fit a line to the data in the least-squares sense"
   ]
  },
  {
   "cell_type": "markdown",
   "metadata": {},
   "source": [
    "data:\n",
    "$$x = [1.3, 3.4, 6.4]$$\n",
    "$$y = [2.1, 5.9, 13.5]$$\n",
    "\n",
    "model: $$y = mx + b$$"
   ]
  },
  {
   "cell_type": "markdown",
   "metadata": {
    "slideshow": {
     "slide_type": "subslide"
    }
   },
   "source": [
    "#### The sum of the squares of the deviations as a function of $m$ and $b$ is:\n",
    "$$S(m, b) = \\Sigma (y_i - \\theta_i)^2$$\n",
    "\n",
    "where $\\theta_i$ is the **model prediction** for the $i^{\\rm th}$ data point. With $\\theta_i = mx_i + b$, we have:\n",
    "\n",
    "$$S(m, b) =  (2.1 - (1.3m + b))^2 \\\\ + (5.9 - (3.4m + b))^2 \\\\ + (13.5 - (6.4m + b))^2$$"
   ]
  },
  {
   "cell_type": "markdown",
   "metadata": {
    "slideshow": {
     "slide_type": "subslide"
    }
   },
   "source": [
    "This simplifies to:\n",
    "\n",
    "$$ S(m, b) = 54.21 m^2 + 22.2  m  b - 218.38  m + 3 b^2 - 43  b + 221.47$$"
   ]
  },
  {
   "cell_type": "markdown",
   "metadata": {
    "slideshow": {
     "slide_type": "fragment"
    }
   },
   "source": [
    "### Now we just have to minimize this..."
   ]
  },
  {
   "cell_type": "markdown",
   "metadata": {
    "slideshow": {
     "slide_type": "subslide"
    }
   },
   "source": [
    "### Find the partial derivatives, $\\delta S / \\delta m$ and $\\delta S / \\delta b$"
   ]
  },
  {
   "cell_type": "markdown",
   "metadata": {
    "slideshow": {
     "slide_type": "fragment"
    }
   },
   "source": [
    "$$ \\delta S / \\delta m  = 108.42 m + 22.2 b - 218.38 $$\n",
    "$$ \\delta S / \\delta b = 6 b + 22.2 m - 43 $$"
   ]
  },
  {
   "cell_type": "markdown",
   "metadata": {
    "slideshow": {
     "slide_type": "fragment"
    }
   },
   "source": [
    "### ...set these to zero and solve for $m$ and $b$"
   ]
  },
  {
   "cell_type": "code",
   "execution_count": null,
   "metadata": {
    "slideshow": {
     "slide_type": "fragment"
    }
   },
   "outputs": [],
   "source": [
    "m = 494. / 219.\n",
    "b = (43 - 22.2 * m) / 6\n",
    "print(m, b)"
   ]
  },
  {
   "cell_type": "code",
   "execution_count": null,
   "metadata": {
    "slideshow": {
     "slide_type": "subslide"
    }
   },
   "outputs": [],
   "source": [
    "# now we can plot the best fit line with our data\n",
    "modely = m * modelx + b\n",
    "plt.plot(x, y, 'ro')\n",
    "plt.plot(modelx, modely, '--')\n",
    "plt.xlim(0, 8)\n",
    "plt.ylim(0, 15)"
   ]
  },
  {
   "cell_type": "markdown",
   "metadata": {
    "slideshow": {
     "slide_type": "slide"
    }
   },
   "source": [
    "## That was for a two parameter model with 3 data points..."
   ]
  },
  {
   "cell_type": "markdown",
   "metadata": {
    "slideshow": {
     "slide_type": "fragment"
    }
   },
   "source": [
    "* think about doing this for, say, 100 data points"
   ]
  },
  {
   "cell_type": "markdown",
   "metadata": {
    "slideshow": {
     "slide_type": "slide"
    }
   },
   "source": [
    "## Matricies to the Rescue!"
   ]
  },
  {
   "cell_type": "markdown",
   "metadata": {},
   "source": [
    "We can take the three equations:\n",
    "\n",
    "$$\n",
    "\\begin{align}\n",
    "2.1   &  =  1.3m + b\\\\\n",
    "5.9   &  =  3.4m + b\\\\\n",
    "13.5  &  =  6.4m + b\\\\\n",
    "\\end{align}\n",
    "$$\n",
    "\n",
    "and turn them into a single matrix equation:\n",
    "\n",
    "$$ Y = Xp $$"
   ]
  },
  {
   "cell_type": "markdown",
   "metadata": {
    "slideshow": {
     "slide_type": "subslide"
    }
   },
   "source": [
    "$Y = \n",
    "\\left[ \\begin{array}{c}\n",
    "2.1  \\\\\n",
    "5.9  \\\\\n",
    "13.5  \\end{array} \\right] $, \n",
    "$X = \n",
    "\\left[ \\begin{array}{cc}\n",
    "1.3 & 1 \\\\\n",
    "3.4 & 1 \\\\\n",
    "6.4 & 1 \\end{array} \\right] \n",
    "$, and $p = \\left[ \\begin{array}{c}\n",
    "m \\\\\n",
    "b \\end{array} \\right] $"
   ]
  },
  {
   "cell_type": "markdown",
   "metadata": {
    "slideshow": {
     "slide_type": "subslide"
    }
   },
   "source": [
    "### Now, just solve for $p$!"
   ]
  },
  {
   "cell_type": "markdown",
   "metadata": {},
   "source": [
    "$$ Xp = Y $$"
   ]
  },
  {
   "cell_type": "markdown",
   "metadata": {
    "slideshow": {
     "slide_type": "fragment"
    }
   },
   "source": [
    "$$ X^T X p = X^T Y $$"
   ]
  },
  {
   "cell_type": "markdown",
   "metadata": {
    "slideshow": {
     "slide_type": "fragment"
    }
   },
   "source": [
    "$$ (X^T X)^{-1} (X^T X) p = (X^T X)^{-1} X^T Y $$"
   ]
  },
  {
   "cell_type": "markdown",
   "metadata": {
    "slideshow": {
     "slide_type": "fragment"
    }
   },
   "source": [
    "$$ p = (X^T X)^{-1} X^T Y $$"
   ]
  },
  {
   "cell_type": "markdown",
   "metadata": {
    "slideshow": {
     "slide_type": "slide"
    }
   },
   "source": [
    "## A quick intro to `numpy.matrix` objects"
   ]
  },
  {
   "cell_type": "markdown",
   "metadata": {
    "slideshow": {
     "slide_type": "fragment"
    }
   },
   "source": [
    "### `numpy.matrix` is NOT the same as `numpy.array`"
   ]
  },
  {
   "cell_type": "code",
   "execution_count": null,
   "metadata": {
    "slideshow": {
     "slide_type": "subslide"
    }
   },
   "outputs": [],
   "source": [
    "# create an array and a matrix for testing\n",
    "a1 = \n",
    "m1 = \n",
    "print(\"the array is:\\n\", a1)\n",
    "print(\"the matrix is:\\n\", m1)"
   ]
  },
  {
   "cell_type": "code",
   "execution_count": null,
   "metadata": {
    "slideshow": {
     "slide_type": "subslide"
    }
   },
   "outputs": [],
   "source": [
    "# you can multiply them by scalars\n",
    "print(\"the scaled array is: \\n\", a1 * 2)\n",
    "print(\"the scaled matrix is: \\n\", m1 * 2)"
   ]
  },
  {
   "cell_type": "code",
   "execution_count": null,
   "metadata": {
    "slideshow": {
     "slide_type": "subslide"
    }
   },
   "outputs": [],
   "source": [
    "# you can add them\n",
    "print(\"the array sum is:\\n\", a1 + a1)\n",
    "print(\"the matrix sum is:\\n\", m1 + m1)"
   ]
  },
  {
   "cell_type": "markdown",
   "metadata": {
    "slideshow": {
     "slide_type": "subslide"
    }
   },
   "source": [
    "### Key difference between `numpy.matrix` and `numpy.array`: multiplication!"
   ]
  },
  {
   "cell_type": "code",
   "execution_count": null,
   "metadata": {
    "slideshow": {
     "slide_type": "-"
    }
   },
   "outputs": [],
   "source": [
    "# note that array and matrix multiplacation is diferent\n",
    "print(\"the array product is:\\n\", a1 * a1)\n",
    "print(\"the matrix product is:\\n\", m1 * m1)"
   ]
  },
  {
   "cell_type": "markdown",
   "metadata": {
    "slideshow": {
     "slide_type": "slide"
    }
   },
   "source": [
    "## Recall matrix multiplication"
   ]
  },
  {
   "cell_type": "markdown",
   "metadata": {},
   "source": [
    "$$\n",
    "\\left[ \\begin{array}{cc}\n",
    "a & b \\\\\n",
    "c & d \\\\\n",
    "\\end{array} \\right]\n",
    "\\left[ \\begin{array}{cc}\n",
    "w & x \\\\\n",
    "y & z \\\\\n",
    "\\end{array} \\right] \n",
    "=\n",
    "\\left[ \\begin{array}{cc}\n",
    "aw + by & ax + bz \\\\\n",
    "cw + dy & cx + dz \\\\      \n",
    "\\end{array} \\right] $$\n",
    "\n"
   ]
  },
  {
   "cell_type": "markdown",
   "metadata": {
    "slideshow": {
     "slide_type": "-"
    }
   },
   "source": [
    "for more see:\n",
    " * https://en.wikipedia.org/wiki/Matrix_multiplication\n",
    " * http://mathworld.wolfram.com/MatrixMultiplication.html"
   ]
  },
  {
   "cell_type": "markdown",
   "metadata": {
    "slideshow": {
     "slide_type": "slide"
    }
   },
   "source": [
    "## Matrix Math Makes Least-Squares Fitting a Snap!"
   ]
  },
  {
   "cell_type": "markdown",
   "metadata": {
    "slideshow": {
     "slide_type": "fragment"
    }
   },
   "source": [
    "Express the model, $y = mx + b$ as:\n",
    "$$ Y = Xp $$\n",
    "\n",
    "where $Y = \n",
    "\\left[ \\begin{array}{c}\n",
    "y_0  \\\\\n",
    "y_1  \\\\\n",
    " \\vdots  \\\\\n",
    "y_{N-1}  \\end{array} \\right] $, \n",
    "$X = \n",
    "\\left[ \\begin{array}{cc}\n",
    "x_0 & 1 \\\\\n",
    "x_1 & 1 \\\\\n",
    " \\vdots & \\vdots \\\\\n",
    "x_{N-1} & 1 \\end{array} \\right] \n",
    "$, and $p = \\left[ \\begin{array}{c}\n",
    "m \\\\\n",
    "b \\end{array} \\right] $"
   ]
  },
  {
   "cell_type": "markdown",
   "metadata": {
    "slideshow": {
     "slide_type": "subslide"
    }
   },
   "source": [
    "### here's what that looks like with `numpy.matrix` objects"
   ]
  },
  {
   "cell_type": "code",
   "execution_count": null,
   "metadata": {
    "collapsed": true,
    "slideshow": {
     "slide_type": "fragment"
    }
   },
   "outputs": [],
   "source": [
    "# set up the x in a 3 row by two column (N x 2) matrix\n",
    "X = "
   ]
  },
  {
   "cell_type": "code",
   "execution_count": null,
   "metadata": {
    "collapsed": true,
    "slideshow": {
     "slide_type": "fragment"
    }
   },
   "outputs": [],
   "source": [
    "# set up the y in a single column matrix\n",
    "Y = "
   ]
  },
  {
   "cell_type": "code",
   "execution_count": null,
   "metadata": {
    "slideshow": {
     "slide_type": "fragment"
    }
   },
   "outputs": [],
   "source": [
    "# solve for p\n",
    "p = "
   ]
  },
  {
   "cell_type": "markdown",
   "metadata": {
    "slideshow": {
     "slide_type": "slide"
    }
   },
   "source": [
    "## What if we have additional parameters in our model?"
   ]
  },
  {
   "cell_type": "markdown",
   "metadata": {
    "slideshow": {
     "slide_type": "fragment"
    }
   },
   "source": [
    "As long as you can express the model as a linear equation with independant model parameters\n",
    "$$ Y = Xp $$\n",
    "will work."
   ]
  },
  {
   "cell_type": "markdown",
   "metadata": {
    "slideshow": {
     "slide_type": "subslide"
    }
   },
   "source": [
    "### for example, what about a quadratic equation..."
   ]
  },
  {
   "cell_type": "markdown",
   "metadata": {
    "slideshow": {
     "slide_type": "fragment"
    }
   },
   "source": [
    "$$ y = ax^2 + bx + c $$"
   ]
  },
  {
   "cell_type": "markdown",
   "metadata": {
    "slideshow": {
     "slide_type": "fragment"
    }
   },
   "source": [
    "no problem!\n",
    "\n",
    "$$\n",
    "\\left[ \\begin{array}{c}\n",
    "y_0  \\\\\n",
    "y_1  \\\\\n",
    " \\vdots  \\\\\n",
    "y_N  \\end{array} \\right] = \\left[ \\begin{array}{ccc}\n",
    "x_0^2 & x_0 & 1 \\\\\n",
    "x_1^2 & x_1 & 1 \\\\\n",
    " \\vdots & \\vdots \\\\\n",
    "x_N^2 & x_N & 1 \\end{array} \\right] \n",
    "\\left[ \\begin{array}{c}\n",
    "a \\\\\n",
    "b \\\\\n",
    "c \\end{array} \\right] $$\n"
   ]
  },
  {
   "cell_type": "markdown",
   "metadata": {
    "slideshow": {
     "slide_type": "slide"
    }
   },
   "source": [
    "## Sample Variance"
   ]
  },
  {
   "cell_type": "markdown",
   "metadata": {},
   "source": [
    "* How close are the data points to the model?"
   ]
  },
  {
   "cell_type": "code",
   "execution_count": null,
   "metadata": {
    "collapsed": true
   },
   "outputs": [],
   "source": [
    "# predicted y values\n",
    "modelY = \n",
    "\n",
    "# residuals from observed values\n"
   ]
  },
  {
   "cell_type": "markdown",
   "metadata": {
    "slideshow": {
     "slide_type": "subslide"
    }
   },
   "source": [
    "### Variance (${\\rm var} = \\sigma^2$) of the data from the model "
   ]
  },
  {
   "cell_type": "code",
   "execution_count": null,
   "metadata": {},
   "outputs": [],
   "source": [
    "M = ???? # number of data samples\n",
    "N = ???? # number of model parameters\n",
    "sample_var = ????\n",
    "print(sample_var)"
   ]
  },
  {
   "cell_type": "code",
   "execution_count": null,
   "metadata": {
    "slideshow": {
     "slide_type": "subslide"
    }
   },
   "outputs": [],
   "source": [
    "# plot residuals\n",
    "plt.errorbar(x, y, np.sqrt(sample_var[0,0]), ls='None', marker='o', color='red', capsize=3)\n",
    "plt.plot(modelx, modely, '--')"
   ]
  },
  {
   "cell_type": "markdown",
   "metadata": {
    "slideshow": {
     "slide_type": "slide"
    }
   },
   "source": [
    "## Uncertainty in the model parameters"
   ]
  },
  {
   "cell_type": "code",
   "execution_count": null,
   "metadata": {
    "collapsed": true
   },
   "outputs": [],
   "source": [
    "# now for the model parameter uncertainties\n",
    "pvar = \n",
    "psig = "
   ]
  },
  {
   "cell_type": "code",
   "execution_count": null,
   "metadata": {
    "slideshow": {
     "slide_type": "fragment"
    }
   },
   "outputs": [],
   "source": [
    "# best fit parameters\n",
    "m, b = \n",
    "msig, bsig = \n",
    "\n",
    "# now for the parameter errors\n",
    "print(\"m is {:.3f} +/- {:.3f}\".format(m, msig))\n",
    "print(\"b is {:.3f} +/- {:.3f}\".format(b, bsig))"
   ]
  },
  {
   "cell_type": "markdown",
   "metadata": {
    "slideshow": {
     "slide_type": "slide"
    }
   },
   "source": [
    "## For more details see..."
   ]
  },
  {
   "cell_type": "markdown",
   "metadata": {},
   "source": [
    "[\"Least-Squares and Chi-Square for the Budding Aficionado: Art and Practice\"](http://ugastro.berkeley.edu/radio/2015/handout_links/lsfit_2008.pdf) by Carl Heiles (UC Berkeley)"
   ]
  }
 ],
 "metadata": {
  "celltoolbar": "Slideshow",
  "kernelspec": {
   "display_name": "Python 3",
   "language": "python",
   "name": "python3"
  },
  "language_info": {
   "codemirror_mode": {
    "name": "ipython",
    "version": 3
   },
   "file_extension": ".py",
   "mimetype": "text/x-python",
   "name": "python",
   "nbconvert_exporter": "python",
   "pygments_lexer": "ipython3",
   "version": "3.5.4"
  },
  "livereveal": {
   "scroll": "True",
   "start_slideshow_at": "selected"
  }
 },
 "nbformat": 4,
 "nbformat_minor": 1
}
