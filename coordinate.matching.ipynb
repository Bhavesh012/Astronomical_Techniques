{
 "cells": [
  {
   "cell_type": "markdown",
   "metadata": {
    "slideshow": {
     "slide_type": "slide"
    }
   },
   "source": [
    "# Coordinate Matching\n",
    "## How to match up on list of celestial coordiates with another\n",
    "\n",
    "\n",
    "### Prof. Robert Quimby\n",
    "&copy; 2018 Robert Quimby"
   ]
  },
  {
   "cell_type": "markdown",
   "metadata": {
    "slideshow": {
     "slide_type": "slide"
    }
   },
   "source": [
    "## In this tutorial you will..."
   ]
  },
  {
   "cell_type": "markdown",
   "metadata": {
    "collapsed": true
   },
   "source": [
    "* Load two, unmatched coordinate lists\n",
    "* Calculate angular separations between one sky point and another\n",
    "* Find the minimum angular separations to match one list to another"
   ]
  },
  {
   "cell_type": "markdown",
   "metadata": {
    "slideshow": {
     "slide_type": "slide"
    }
   },
   "source": [
    "## Load the (R.A., Dec.) positions for the data"
   ]
  },
  {
   "cell_type": "code",
   "execution_count": null,
   "metadata": {
    "collapsed": true
   },
   "outputs": [],
   "source": [
    "# load the data\n",
    "import numpy as np\n"
   ]
  },
  {
   "cell_type": "markdown",
   "metadata": {
    "slideshow": {
     "slide_type": "slide"
    }
   },
   "source": [
    "## Load the (R.A., Dec.) positions for from the catalog"
   ]
  },
  {
   "cell_type": "code",
   "execution_count": null,
   "metadata": {
    "collapsed": true
   },
   "outputs": [],
   "source": [
    "# load the catalog data\n"
   ]
  },
  {
   "cell_type": "markdown",
   "metadata": {
    "slideshow": {
     "slide_type": "slide"
    }
   },
   "source": [
    "## Plot the positions"
   ]
  },
  {
   "cell_type": "code",
   "execution_count": null,
   "metadata": {
    "collapsed": true
   },
   "outputs": [],
   "source": [
    "# set up matplotlib\n",
    "%matplotlib inline\n",
    "import matplotlib.pylab as plt\n",
    "plt.rcParams['figure.figsize'] = (10, 10)"
   ]
  },
  {
   "cell_type": "code",
   "execution_count": null,
   "metadata": {
    "slideshow": {
     "slide_type": "subslide"
    }
   },
   "outputs": [],
   "source": [
    "plt.plot(????)\n",
    "plt.plot(????)\n",
    "plt.xlabel('R.A. (deg)', fontsize=14)\n",
    "plt.ylabel('Dec. (deg)', fontsize=14);"
   ]
  },
  {
   "cell_type": "markdown",
   "metadata": {
    "slideshow": {
     "slide_type": "slide"
    }
   },
   "source": [
    "## The best matching points are the ones with the minimum angular distance!"
   ]
  },
  {
   "cell_type": "markdown",
   "metadata": {
    "slideshow": {
     "slide_type": "slide"
    }
   },
   "source": [
    "## Angular Separation Between two Points on the Sky"
   ]
  },
  {
   "cell_type": "markdown",
   "metadata": {},
   "source": [
    "How do we find the closest object in the USNOB catalog to a given (R.A., Dec.) on the sky?\n",
    "\n",
    "We need to define a \"metric\" (the way distance is measured from one point to another)"
   ]
  },
  {
   "cell_type": "markdown",
   "metadata": {
    "slideshow": {
     "slide_type": "subslide"
    }
   },
   "source": [
    "$$\\Delta=\\arctan \\frac{\\sqrt{\\left(\\cos\\delta_2 \\sin(\\alpha_1 - \\alpha_2)\\right)^2+\\left(\\cos\\delta_1 \\sin\\delta_2-\\sin\\delta_1 \\cos\\delta_2 \\cos(\\alpha_1 - \\alpha_2)\\right)^2}}{\\sin\\delta_1 \\sin\\delta_2+\\cos\\delta_1 \\cos\\delta_2 \\cos(\\alpha_1 - \\alpha2)}$$\n",
    "\n",
    "\n",
    "where:\n",
    " * $\\alpha_1$ and $\\delta_1$ are the R.A. and Dec., respectively, of object #1\n",
    " * $\\alpha_2$ and $\\delta_2$ are the R.A. and Dec., respectively, of object #2\n",
    " * $\\Delta$ is the angular distance between the two objects"
   ]
  },
  {
   "cell_type": "code",
   "execution_count": null,
   "metadata": {
    "collapsed": true,
    "slideshow": {
     "slide_type": "slide"
    }
   },
   "outputs": [],
   "source": [
    "def angular_sep(lon1, lat1, lon2, lat2):\n",
    "    \"\"\"\n",
    "    returns the angular separation between two points on a sphere.\n",
    "\n",
    "    lon1, lat1, lon2, and lat2 must be in **degrees**!\n",
    "    Code based on astropy.coordinates.angle_utilities.py.\n",
    "    \"\"\"\n",
    "    sdlon = np.sin(np.radians(lon2 - lon1))\n",
    "    cdlon = np.cos(np.radians(lon2 - lon1))\n",
    "    slat1 = np.sin(np.radians(lat1))\n",
    "    slat2 = np.sin(np.radians(lat2))\n",
    "    clat1 = np.cos(np.radians(lat1))\n",
    "    clat2 = np.cos(np.radians(lat2))\n",
    "\n",
    "    num1 = clat2 * sdlon\n",
    "    num2 = clat1 * slat2 - slat1 * clat2 * cdlon\n",
    "    denominator = slat1 * slat2 + clat1 * clat2 * cdlon\n",
    "\n",
    "    return np.degrees(np.arctan2(np.(num1, num2), denominator))"
   ]
  },
  {
   "cell_type": "code",
   "execution_count": null,
   "metadata": {
    "slideshow": {
     "slide_type": "subslide"
    }
   },
   "outputs": [],
   "source": [
    "ra1 = 185\n",
    "dec1 = 0\n",
    "ra2 = ra1 + 3 / 60\n",
    "dec2 = dec1 + 3 / 60\n"
   ]
  },
  {
   "cell_type": "code",
   "execution_count": null,
   "metadata": {
    "slideshow": {
     "slide_type": "fragment"
    }
   },
   "outputs": [],
   "source": [
    "# Angular separation function is built into SkyCoord Objects\n",
    "from astropy.coordinates import SkyCoord\n",
    "\n"
   ]
  },
  {
   "cell_type": "markdown",
   "metadata": {
    "slideshow": {
     "slide_type": "slide"
    }
   },
   "source": [
    "## Angular Separation Approximation for Small Angles"
   ]
  },
  {
   "cell_type": "markdown",
   "metadata": {},
   "source": [
    "On small enough scales, the Celestial Sphere is roughly flat"
   ]
  },
  {
   "cell_type": "code",
   "execution_count": null,
   "metadata": {
    "collapsed": true,
    "slideshow": {
     "slide_type": "subslide"
    }
   },
   "outputs": [],
   "source": [
    "def angular_sep_approx(ra1, dec1, ra2, dec2):\n",
    "    ddec = dec1 - dec2\n",
    "    dra = (ra1 - ra2) * np.cos(np.radians(dec1))\n",
    "    return np.sqrt( dra**2 + ddec**2 )"
   ]
  },
  {
   "cell_type": "code",
   "execution_count": null,
   "metadata": {
    "slideshow": {
     "slide_type": "fragment"
    }
   },
   "outputs": [],
   "source": [
    "ra1 = 185\n",
    "dec1 = 0\n",
    "ra2 = ra1 + 3 / 60\n",
    "dec2 = dec1 + 3 / 60\n",
    "print(angular_sep(ra1, dec1, ra2, dec2) * 60)\n",
    "print(angular_sep_approx(ra1, dec1, ra2, dec2) * 60)"
   ]
  },
  {
   "cell_type": "markdown",
   "metadata": {
    "slideshow": {
     "slide_type": "slide"
    }
   },
   "source": [
    "## Match Image Objects to USNOB Stars"
   ]
  },
  {
   "cell_type": "code",
   "execution_count": null,
   "metadata": {
    "collapsed": true
   },
   "outputs": [],
   "source": [
    "# angular distance from one point to all usnob objects\n"
   ]
  },
  {
   "cell_type": "code",
   "execution_count": null,
   "metadata": {
    "slideshow": {
     "slide_type": "subslide"
    }
   },
   "outputs": [],
   "source": [
    "# plot how close each match is\n",
    "plt.plot(dist, 'ro')\n",
    "\n",
    "print(\"min angular separation is {:.1f} arcsec\".format(dist[ind]))"
   ]
  },
  {
   "cell_type": "code",
   "execution_count": null,
   "metadata": {
    "slideshow": {
     "slide_type": "subslide"
    }
   },
   "outputs": [],
   "source": [
    "dtype = []\n",
    "dtype.append( ('ra', float) )\n",
    "dtype.append( ('dec', float) )\n",
    "dtype.append( ('dist', float) )\n",
    "dtype.append( ('ind', int) )\n",
    "dtype.append( ('matchra', float) )\n",
    "dtype.append( ('matchdec', float) )\n",
    "\n",
    "matches = np.zeros(data.shape, dtype=dtype)\n",
    "matches['ra'] = data['ra']\n",
    "matches['dec'] = data['dec']\n",
    "\n",
    "for row in matches:\n",
    "    dist = angular_sep(row['ra'], row['dec'], usnob['ra'], usnob['dec'])\n",
    "    ind = dist.argmin()\n",
    "    row['ind'] = ind\n",
    "    row['dist'] = dist[ind] \n",
    "    row['matchra'] = usnob['ra'][ind]\n",
    "    row['matchdec'] = usnob['dec'][ind]\n",
    "    \n",
    "# locate the good matches\n",
    "w = matches['dist'] < 2 / 3600"
   ]
  },
  {
   "cell_type": "code",
   "execution_count": null,
   "metadata": {
    "slideshow": {
     "slide_type": "subslide"
    }
   },
   "outputs": [],
   "source": [
    "plt.plot(usnob['ra'], usnob['dec'], 'ro')\n",
    "plt.plot(data['ra'], data['dec'], 'bo', mfc='none', ms=8) \n",
    "plt.plot(matches['ra'][w], matches['dec'][w], 'gx')\n",
    "plt.xlabel('R.A. (deg)', fontsize=14)\n",
    "plt.ylabel('Dec. (deg)', fontsize=14);"
   ]
  },
  {
   "cell_type": "markdown",
   "metadata": {
    "slideshow": {
     "slide_type": "slide"
    }
   },
   "source": [
    "## Match using SkyCoord objects"
   ]
  },
  {
   "cell_type": "code",
   "execution_count": null,
   "metadata": {
    "collapsed": true
   },
   "outputs": [],
   "source": [
    "# match the lists\n",
    "\n",
    "# put the usnob matches in the same order as the data\n",
    "\n",
    "# locate the close matches\n"
   ]
  },
  {
   "cell_type": "code",
   "execution_count": null,
   "metadata": {
    "slideshow": {
     "slide_type": "subslide"
    }
   },
   "outputs": [],
   "source": [
    "plt.plot(usnob['ra'], usnob['dec'], 'ro')\n",
    "plt.plot(data['ra'], data['dec'], 'bo', mfc='none', ms=8)\n",
    "plt.plot(usnobmatch.ra.deg[wok], usnobmatch.dec.deg[wok], 'gx')\n",
    "plt.xlabel('R.A. (deg)', fontsize=14)\n",
    "plt.ylabel('Dec. (deg)', fontsize=14);"
   ]
  },
  {
   "cell_type": "code",
   "execution_count": null,
   "metadata": {
    "collapsed": true
   },
   "outputs": [],
   "source": []
  }
 ],
 "metadata": {
  "celltoolbar": "Slideshow",
  "kernelspec": {
   "display_name": "Python 3",
   "language": "python",
   "name": "python3"
  },
  "language_info": {
   "codemirror_mode": {
    "name": "ipython",
    "version": 3
   },
   "file_extension": ".py",
   "mimetype": "text/x-python",
   "name": "python",
   "nbconvert_exporter": "python",
   "pygments_lexer": "ipython3",
   "version": "3.5.4"
  },
  "livereveal": {
   "scroll": "True",
   "start_slideshow_at": "selected"
  }
 },
 "nbformat": 4,
 "nbformat_minor": 1
}
