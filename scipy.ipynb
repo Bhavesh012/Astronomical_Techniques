{
 "cells": [
  {
   "cell_type": "markdown",
   "metadata": {
    "slideshow": {
     "slide_type": "slide"
    }
   },
   "source": [
    "# SciPy\n",
    "## AN introduction to scientific programing in python\n",
    "\n",
    "![](https://scipy.org/_static/logo.gif)\n",
    "\n",
    "\n",
    "### Prof. Robert Quimby\n",
    "&copy; 2018 Robert Quimby"
   ]
  },
  {
   "cell_type": "markdown",
   "metadata": {
    "slideshow": {
     "slide_type": "slide"
    }
   },
   "source": [
    "## In this tutorial you will..."
   ]
  },
  {
   "cell_type": "markdown",
   "metadata": {},
   "source": [
    "* be introduced to the SciPy ecosystem\n",
    "* learn about some key `scipy` modules\n",
    "* use the `scipy.optimize` module to find the minimum of a function\n",
    "* determine the tilt of the Earth's axis"
   ]
  },
  {
   "cell_type": "markdown",
   "metadata": {
    "slideshow": {
     "slide_type": "slide"
    }
   },
   "source": [
    "## SciPy Documentation"
   ]
  },
  {
   "cell_type": "markdown",
   "metadata": {
    "collapsed": true
   },
   "source": [
    "* https://scipy.org/\n",
    "* [SciPy tutorial](https://docs.scipy.org/doc/scipy-1.0.0/reference/tutorial/index.html)"
   ]
  },
  {
   "cell_type": "markdown",
   "metadata": {
    "collapsed": true,
    "slideshow": {
     "slide_type": "slide"
    }
   },
   "source": [
    "## Key SciPy modules"
   ]
  },
  {
   "cell_type": "markdown",
   "metadata": {
    "collapsed": true
   },
   "source": [
    "* [scipy.optimize](https://docs.scipy.org/doc/scipy-1.0.0/reference/tutorial/optimize.html) -- finding the minima of functions\n",
    "* [scipy.interpolate](https://docs.scipy.org/doc/scipy-1.0.0/reference/tutorial/interpolate.html) -- interpolation (e.g., estimating values between given model points)\n",
    "* [scipy.signal](https://docs.scipy.org/doc/scipy-1.0.0/reference/tutorial/signal.html) -- convolving and filtering data\n",
    "* [scipy.linalg](https://docs.scipy.org/doc/scipy-1.0.0/reference/tutorial/linalg.html) -- linear algebra tools\n",
    "* [scipy.stats](https://docs.scipy.org/doc/scipy-1.0.0/reference/tutorial/stats.html) -- statistics tools\n",
    "* [scipy.integrate](https://docs.scipy.org/doc/scipy-1.0.0/reference/tutorial/integrate.html) -- Integrating functions (see also `numpy`)\n"
   ]
  },
  {
   "cell_type": "markdown",
   "metadata": {
    "slideshow": {
     "slide_type": "slide"
    }
   },
   "source": [
    "## Finding minima with `scipy.optimize`"
   ]
  },
  {
   "cell_type": "code",
   "execution_count": null,
   "metadata": {
    "collapsed": true
   },
   "outputs": [],
   "source": []
  },
  {
   "cell_type": "code",
   "execution_count": null,
   "metadata": {},
   "outputs": [],
   "source": []
  },
  {
   "cell_type": "code",
   "execution_count": null,
   "metadata": {
    "slideshow": {
     "slide_type": "subslide"
    }
   },
   "outputs": [],
   "source": []
  },
  {
   "cell_type": "markdown",
   "metadata": {
    "slideshow": {
     "slide_type": "slide"
    }
   },
   "source": [
    "## Other minimization routines"
   ]
  },
  {
   "cell_type": "markdown",
   "metadata": {},
   "source": [
    "* https://docs.scipy.org/doc/scipy/reference/optimize.html#module-scipy.optimize"
   ]
  },
  {
   "cell_type": "markdown",
   "metadata": {
    "slideshow": {
     "slide_type": "slide"
    }
   },
   "source": [
    "## Axial tilt of the Earth"
   ]
  },
  {
   "cell_type": "code",
   "execution_count": null,
   "metadata": {
    "collapsed": true
   },
   "outputs": [],
   "source": [
    "# (set-up for the plot)\n",
    "plt.rcParams['figure.figsize'] = (10, 5)\n",
    "\n",
    "def earth_axis(x):\n",
    "    return (x - 1) * np.tan(np.radians(60))\n",
    "def earth_equator(x):\n",
    "    return (x - 1) * np.tan(np.radians(150) )\n",
    "polex = np.linspace(0.95, 1.05, 10)\n",
    "equx = np.linspace(0.7, 1.3, 10)"
   ]
  },
  {
   "cell_type": "code",
   "execution_count": null,
   "metadata": {
    "slideshow": {
     "slide_type": "subslide"
    }
   },
   "outputs": [],
   "source": [
    "plt.axes().set_aspect('equal', 'datalim')\n",
    "plt.plot(0, 0, marker='*', ms=100, c='y', label='Sun')\n",
    "plt.plot(1, 0, marker='o', ms=50, c='b', label='Earth')\n",
    "plt.axhline(0, c='k', ls='dotted')\n",
    "plt.plot(polex, earth_axis(polex), c='k', lw=4)\n",
    "plt.plot(equx, earth_equator(equx), c='k', ls='--');"
   ]
  },
  {
   "cell_type": "markdown",
   "metadata": {
    "slideshow": {
     "slide_type": "subslide"
    }
   },
   "source": [
    "## RA, Dec of the Sun over a one year period"
   ]
  },
  {
   "cell_type": "code",
   "execution_count": null,
   "metadata": {
    "collapsed": true,
    "slideshow": {
     "slide_type": "-"
    }
   },
   "outputs": [],
   "source": [
    "# set up an array of times spanning one year\n",
    "from astropy import units\n",
    "from astropy.time import Time\n",
    "times = ????\n",
    "\n",
    "# get the RA, Dec of the Sun at each time\n",
    "from astropy.coordinates import get_sun\n",
    "sun = get_sun(times)"
   ]
  },
  {
   "cell_type": "code",
   "execution_count": null,
   "metadata": {
    "slideshow": {
     "slide_type": "subslide"
    }
   },
   "outputs": [],
   "source": [
    "# plot the path of the Sun\n",
    "plt.plot(sun.ra, sun.dec, 'ro')\n",
    "plt.xlabel('Right Ascension', weight='bold', fontsize=18)\n",
    "plt.ylabel('Declination', weight='bold', fontsize=18);"
   ]
  },
  {
   "cell_type": "code",
   "execution_count": null,
   "metadata": {
    "slideshow": {
     "slide_type": "fragment"
    }
   },
   "outputs": [],
   "source": [
    "# axial tilt of the Earth (rough)\n"
   ]
  },
  {
   "cell_type": "code",
   "execution_count": null,
   "metadata": {
    "scrolled": true,
    "slideshow": {
     "slide_type": "subslide"
    }
   },
   "outputs": [],
   "source": [
    "# a more exact way do determine the axial tilt\n"
   ]
  }
 ],
 "metadata": {
  "celltoolbar": "Slideshow",
  "kernelspec": {
   "display_name": "Python 3",
   "language": "python",
   "name": "python3"
  },
  "language_info": {
   "codemirror_mode": {
    "name": "ipython",
    "version": 3
   },
   "file_extension": ".py",
   "mimetype": "text/x-python",
   "name": "python",
   "nbconvert_exporter": "python",
   "pygments_lexer": "ipython3",
   "version": "3.5.4"
  },
  "livereveal": {
   "scroll": "True",
   "start_slideshow_at": "selected"
  }
 },
 "nbformat": 4,
 "nbformat_minor": 1
}
