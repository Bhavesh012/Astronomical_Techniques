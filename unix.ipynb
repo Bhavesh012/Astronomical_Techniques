{
 "cells": [
  {
   "cell_type": "markdown",
   "metadata": {
    "slideshow": {
     "slide_type": "slide"
    }
   },
   "source": [
    "# UNIX\n",
    "## (the basics)\n",
    "\n",
    "### Prof. Robert Quimby <br> August, 2018\n",
    "\n",
    "&copy; 2018 Robert Quimby"
   ]
  },
  {
   "cell_type": "markdown",
   "metadata": {
    "slideshow": {
     "slide_type": "slide"
    }
   },
   "source": [
    "## Unix Tutorials"
   ]
  },
  {
   "cell_type": "markdown",
   "metadata": {},
   "source": [
    "* [UNIX Tutorial for Beginners](http://www.ee.surrey.ac.uk/Teaching/Unix/) -- Written for electrical engineering students at the University of Surrey in the UK, this is an old tutorial but it is chocked full of good stuff. Just ignore the parts about `tcsh` (prounced \"Tee-Shell\"); you want `bash`.\n",
    "\n",
    "* The first chapter of [Python for Astronomers](https://prappleizer.github.io/) by Imad Pasha and Chris Agostino covers the basics of UNIX briefly, and they supply [a PDF with (basic text) notes](https://prappleizer.github.io/unix_full.pdf) too."
   ]
  },
  {
   "cell_type": "markdown",
   "metadata": {
    "slideshow": {
     "slide_type": "slide"
    }
   },
   "source": [
    "## Get to Know Your Computer\n",
    "\n",
    "![Relation between hardware, kernel, shell, applications, and the user](media/hardware.kernel.shell.png)"
   ]
  },
  {
   "cell_type": "markdown",
   "metadata": {
    "slideshow": {
     "slide_type": "slide"
    }
   },
   "source": [
    "## Open a Terminal"
   ]
  },
  {
   "cell_type": "markdown",
   "metadata": {},
   "source": [
    "#### In other words, start running terminal program\n",
    "\n",
    "On a Mac\n",
    "  - you can use the \"Terminal\" program that comes with Mac OS for now\n",
    "    * It should be located in Applications-->Utilities-->Terminal\n",
    "  - but for best results, install and use [XQuartz](https://www.xquartz.org)\n",
    "  "
   ]
  },
  {
   "cell_type": "markdown",
   "metadata": {
    "slideshow": {
     "slide_type": "subslide"
    }
   },
   "source": [
    " On Ubuntu\n",
    "  - Open the Dash by clicking the Ubuntu icon in the upper-left, type \"terminal\", and select the Terminal application from the results that appear \n",
    "  - or, better yet, use the keyboard shortcut Ctrl-Alt+T.\n",
    "  - for more options, see https://www.wikihow.com/Open-a-Terminal-Window-in-Ubuntu\n",
    "  "
   ]
  },
  {
   "cell_type": "markdown",
   "metadata": {
    "slideshow": {
     "slide_type": "subslide"
    }
   },
   "source": [
    "#### You should see a window like the following on your screen.\n",
    "\n",
    "![](media/xterm.png)\n",
    "\n",
    "* This is the terminal (I may sometimes call it an \"xterm\")\n",
    "* The black square is the cursor for text input\n",
    "* This is a [command line interface](https://en.wikipedia.org/wiki/Command-line_interface)"
   ]
  },
  {
   "cell_type": "markdown",
   "metadata": {
    "slideshow": {
     "slide_type": "slide"
    }
   },
   "source": [
    "## What Can You Do with the Terminal?"
   ]
  },
  {
   "cell_type": "markdown",
   "metadata": {},
   "source": [
    "* You use the terminal to ask the Kernel to do things and (sometimes) see its answer."
   ]
  },
  {
   "cell_type": "markdown",
   "metadata": {
    "slideshow": {
     "slide_type": "fragment"
    }
   },
   "source": [
    "* for example, you can run a program called `date`\n",
    "  * just type `date` at the command line and press enter"
   ]
  },
  {
   "cell_type": "markdown",
   "metadata": {
    "slideshow": {
     "slide_type": "slide"
    }
   },
   "source": [
    "## Files and Directories"
   ]
  },
  {
   "cell_type": "markdown",
   "metadata": {},
   "source": [
    "Just like you can arrange files into different folders on a Mac or PC, you can hold different files in different *directories* on a UNIX machine\n",
    "\n",
    "* \"directories\" and \"folders\" are the same things and I will use these terms interchangeably. \n",
    "* directories are arranged in a tree-like structure with a special directory at the base\n",
    "  * this is known as the \"root\" directory"
   ]
  },
  {
   "cell_type": "markdown",
   "metadata": {
    "slideshow": {
     "slide_type": "slide"
    }
   },
   "source": [
    "## Keyboard Shortcuts"
   ]
  },
  {
   "cell_type": "markdown",
   "metadata": {
    "slideshow": {
     "slide_type": "-"
    }
   },
   "source": [
    "Very useful command line keyboard shortcuts: https://www.howtogeek.com/howto/ubuntu/keyboard-shortcuts-for-bash-command-shell-for-ubuntu-debian-suse-redhat-linux-etc/"
   ]
  },
  {
   "cell_type": "markdown",
   "metadata": {
    "slideshow": {
     "slide_type": "slide"
    }
   },
   "source": [
    "## Easy Cut-and-Paste with your Mouse"
   ]
  },
  {
   "cell_type": "markdown",
   "metadata": {},
   "source": [
    "* Use the mouse to highlight some text\n",
    "* middle click the mouse\n",
    "  * Tada!"
   ]
  },
  {
   "cell_type": "markdown",
   "metadata": {
    "slideshow": {
     "slide_type": "slide"
    }
   },
   "source": [
    "## Text Editors"
   ]
  },
  {
   "cell_type": "markdown",
   "metadata": {
    "slideshow": {
     "slide_type": "fragment"
    }
   },
   "source": [
    "* vi -- (not recommended) https://www.cs.colostate.edu/helpdocs/vi.html\n",
    "* emacs -- (**recommended**) https://www.gnu.org/software/emacs/\n",
    "* pico -- (cute, but not recommended) https://www.cs.colostate.edu/helpdocs/pico.html\n"
   ]
  }
 ],
 "metadata": {
  "celltoolbar": "Slideshow",
  "kernelspec": {
   "display_name": "Python 3",
   "language": "python",
   "name": "python3"
  },
  "language_info": {
   "codemirror_mode": {
    "name": "ipython",
    "version": 3
   },
   "file_extension": ".py",
   "mimetype": "text/x-python",
   "name": "python",
   "nbconvert_exporter": "python",
   "pygments_lexer": "ipython3",
   "version": "3.5.4"
  },
  "livereveal": {
   "scroll": "True",
   "start_slideshow_at": "selected"
  }
 },
 "nbformat": 4,
 "nbformat_minor": 1
}
