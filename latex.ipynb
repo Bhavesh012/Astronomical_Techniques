{
 "cells": [
  {
   "cell_type": "markdown",
   "metadata": {
    "slideshow": {
     "slide_type": "slide"
    }
   },
   "source": [
    "# Latex\n",
    "## or should I say\n",
    "\n",
    "\n",
    "![](https://upload.wikimedia.org/wikipedia/commons/thumb/9/92/LaTeX_logo.svg/640px-LaTeX_logo.svg.png)\n",
    "\n",
    "### Prof. Robert Quimby\n",
    "&copy; 2019 Robert Quimby"
   ]
  },
  {
   "cell_type": "markdown",
   "metadata": {
    "slideshow": {
     "slide_type": "slide"
    }
   },
   "source": [
    "## In this tutorial you will..."
   ]
  },
  {
   "cell_type": "markdown",
   "metadata": {},
   "source": [
    "- Be introduced to document preparation with $\\LaTeX$\n",
    "- \"Markup\" a plain text document with $\\LaTeX$ \"tags\"\n",
    "- Create beautiful equations using $\\LaTeX$'s math mode\n",
    "- Start writing a research paper on Overleaf.com using the AASTex macros"
   ]
  },
  {
   "cell_type": "markdown",
   "metadata": {
    "slideshow": {
     "slide_type": "slide"
    }
   },
   "source": [
    "## Introduction to $\\LaTeX$"
   ]
  },
  {
   "cell_type": "markdown",
   "metadata": {},
   "source": [
    "* $\\LaTeX$ is a [\"markup\" language](https://en.wikipedia.org/wiki/Markup_language) (other markup languages you might know include [HTML](https://www.w3schools.com/html/) and [XML](https://en.wikipedia.org/wiki/XML))\n",
    "* $\\LaTeX$ can be used to \"typeset\" a document (define which words should be in $\\textbf{bold}$, which should have a $\\huge{larger}$ or $\\tiny{smaller}$ font, etc.)\n",
    "* After you write a document using $\\LaTeX$ commands, you can send the file to a program that will \"compile\" the commands and produce a typeset, PDF document.\n",
    "* Although there are many markup languages, $\\LaTeX$ is especially good for producing mathematical equations. It is thus the standard tool for scientific writing."
   ]
  },
  {
   "cell_type": "markdown",
   "metadata": {
    "slideshow": {
     "slide_type": "slide"
    }
   },
   "source": [
    "## Overleaf.com documentation"
   ]
  },
  {
   "cell_type": "markdown",
   "metadata": {},
   "source": [
    "https://www.overleaf.com/learn/latex/Main_Page"
   ]
  },
  {
   "cell_type": "markdown",
   "metadata": {
    "slideshow": {
     "slide_type": "slide"
    }
   },
   "source": [
    "## $\\LaTeX$ Tag Basics"
   ]
  },
  {
   "cell_type": "markdown",
   "metadata": {},
   "source": [
    "$\\LaTeX$ tags usually start with a backslash, `\\`, followed by the tag name.\n",
    "\n",
    "Examples:\n",
    "- `\\newline` -- ends the current line (of text) and starts a new one\n",
    "- `\\LaTeX` -- produces the fancy $\\LaTeX$ name\n",
    "- `\\copyright` -- makes the copyright symbol"
   ]
  },
  {
   "cell_type": "markdown",
   "metadata": {
    "slideshow": {
     "slide_type": "subslide"
    }
   },
   "source": [
    "You can use curly brackets, `{}`, to mark text that applies to a tag.\n",
    "\n",
    "Examples:\n",
    "- `\\textbf{be bold}` -- indicates the text, \"be bold,\" should be written in a (**b**old **f**ace) font\n",
    "- `\\title{My amazing title}` -- sets the title of the document to \"My amazing title\""
   ]
  },
  {
   "cell_type": "markdown",
   "metadata": {
    "slideshow": {
     "slide_type": "subslide"
    }
   },
   "source": [
    "You can also use `\\begin` and `\\end` to apply a tag to an extended section of text:\n",
    "\n",
    "`\\begin{some_command}\n",
    "  [what ever text some_command should be applied to]\n",
    "\\end{some_command}`"
   ]
  },
  {
   "cell_type": "markdown",
   "metadata": {},
   "source": [
    "### Comments\n",
    "The percent symbol, `%`, is used for comments. Anything on a line after a `%` will be considered ignored by the compiler."
   ]
  },
  {
   "cell_type": "markdown",
   "metadata": {},
   "source": [
    "### Escape Character\n",
    "\n",
    "The [\"escape character\"](https://en.wikipedia.org/wiki/Escape_character) in $\\LaTeX$ is the backslash, `\\`. So if you want a percent symbol to be interpreted as a percent symbol (and not the start of a comment), you would type `\\%`. \n",
    "\n",
    "For example, 100% would be written `100\\%` in your text file (note the backslash will **not** appear in the output file)."
   ]
  },
  {
   "cell_type": "markdown",
   "metadata": {
    "slideshow": {
     "slide_type": "slide"
    }
   },
   "source": [
    "## Create a $\\LaTeX$ document on Overleaf.com"
   ]
  },
  {
   "cell_type": "markdown",
   "metadata": {},
   "source": [
    "https://www.overleaf.com/"
   ]
  },
  {
   "cell_type": "markdown",
   "metadata": {},
   "source": [
    "### Quotations\n",
    "\n",
    "In $\\LaTeX$ you **never** use the double quote symbol (the symbol you get when you hold the shift key and press the key to the left of the return key). Instead, if you want two quotes, you type the single quote character twice.\n",
    "\n",
    "In fancy documents quotation marks placed at the start and end of the quotation should angle toward the text. That is the quotation should begin with quotes that slope down (left to right) toward the quotation and then slope up at the end of the quotation. To achieve this look, you should start your quotation with back quotes and then end with regular quotes.\n",
    "\n",
    "For example, you should make quotes \\`\\`like this'' **and** \"not like this\"."
   ]
  },
  {
   "cell_type": "markdown",
   "metadata": {
    "slideshow": {
     "slide_type": "slide"
    }
   },
   "source": [
    "## Math mode"
   ]
  },
  {
   "cell_type": "markdown",
   "metadata": {},
   "source": [
    "To tell the interpreter that you want to use mathematical symbols, you need to switch to math mode."
   ]
  },
  {
   "cell_type": "markdown",
   "metadata": {},
   "source": [
    "You can enter math mode in-line with other text by enclosing the math commands in dollar signs, like this:\n",
    "\n",
    "`$ax^2 + bx + c = 0$`"
   ]
  },
  {
   "cell_type": "markdown",
   "metadata": {},
   "source": [
    "Note that markdown cells in Jupyter Notebooks can also accept some $\\LaTeX$ commands. For example, the equation above can be displayed as $ax^2 + bx + c = 0$"
   ]
  },
  {
   "cell_type": "markdown",
   "metadata": {},
   "source": [
    "Or you can set an equation on its own line (with an equation number!) like this:\n",
    "\n",
    "`\\begin{equation}\n",
    "ax^2 + bx + c = 0\n",
    "\\end{equation}`"
   ]
  },
  {
   "cell_type": "markdown",
   "metadata": {
    "slideshow": {
     "slide_type": "slide"
    }
   },
   "source": [
    "## Including Figures"
   ]
  },
  {
   "cell_type": "markdown",
   "metadata": {},
   "source": [
    "#### I recommend the `graphicx` package\n",
    "\n",
    "* you must tell $\\LaTeX$ to load the package in the preamble (before the `\\begin{document}` statement)\n",
    "* the command to do this is:\n",
    "\n",
    "<code>\n",
    "\\usepackage{graphicx}\n",
    "</code>"
   ]
  },
  {
   "cell_type": "markdown",
   "metadata": {
    "slideshow": {
     "slide_type": "subslide"
    }
   },
   "source": [
    "* Then use the `\\includegraphics` command inside the `figure` environment:\n",
    "\n",
    "<code>\n",
    "\\begin{figure}[!h]\n",
    "\\begin{center}\n",
    "  \\includegraphics[width=1.0\\textwidth]{some_filename.pdf}\n",
    "\\end{center}\n",
    "\\caption{Put text here to describe the figure.}\\label{some_label}\n",
    "\\end{figure}\n",
    "</code>"
   ]
  },
  {
   "cell_type": "markdown",
   "metadata": {
    "slideshow": {
     "slide_type": "slide"
    }
   },
   "source": [
    "## Quick start guide"
   ]
  },
  {
   "cell_type": "markdown",
   "metadata": {},
   "source": [
    "Check Overleaf.com's guides:\n",
    "- [Learn LaTeX in 30 minutes](https://www.overleaf.com/learn/latex/Learn_LaTeX_in_30_minutes)\n",
    "- [Creating a document in LaTeX](https://www.overleaf.com/learn/latex/Creating_a_document_in_LaTeX)\n",
    "- [Cheat Sheet](https://www.overleaf.com/latex/templates/a-quick-guide-to-latex/fghqpfgnxggz#.W6p8LpNKjdQ) of $\\LaTeX$ commands"
   ]
  }
 ],
 "metadata": {
  "kernelspec": {
   "display_name": "Python 3",
   "language": "python",
   "name": "python3"
  },
  "language_info": {
   "codemirror_mode": {
    "name": "ipython",
    "version": 3
   },
   "file_extension": ".py",
   "mimetype": "text/x-python",
   "name": "python",
   "nbconvert_exporter": "python",
   "pygments_lexer": "ipython3",
   "version": "3.5.6"
  },
  "livereveal": {
   "scroll": "True",
   "start_slideshow_at": "selected"
  }
 },
 "nbformat": 4,
 "nbformat_minor": 1
}
