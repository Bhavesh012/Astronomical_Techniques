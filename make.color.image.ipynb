{
 "cells": [
  {
   "cell_type": "code",
   "execution_count": null,
   "metadata": {
    "slideshow": {
     "slide_type": "skip"
    }
   },
   "outputs": [],
   "source": [
    "import numpy as np\n",
    "\n",
    "%matplotlib inline\n",
    "import matplotlib.pyplot as plt"
   ]
  },
  {
   "cell_type": "code",
   "execution_count": null,
   "metadata": {
    "slideshow": {
     "slide_type": "skip"
    }
   },
   "outputs": [],
   "source": [
    "# reset defalult plotting values\n",
    "plt.rcParams['figure.figsize'] = (10, 7)\n",
    "plt.rc('font', family='sans-serif')\n",
    "plt.rc('axes', labelsize=14)\n",
    "plt.rc('axes', labelweight='bold')\n",
    "plt.rc('axes', titlesize=16)\n",
    "plt.rc('axes', titleweight='bold')\n",
    "plt.rc('axes', linewidth=2)"
   ]
  },
  {
   "cell_type": "code",
   "execution_count": null,
   "metadata": {
    "slideshow": {
     "slide_type": "skip"
    }
   },
   "outputs": [],
   "source": [
    "import pyds9\n",
    "ds9 = pyds9.DS9()"
   ]
  },
  {
   "cell_type": "markdown",
   "metadata": {
    "slideshow": {
     "slide_type": "slide"
    }
   },
   "source": [
    "# Making Color Images from Data\n",
    "\n",
    "![](media/color.png)\n",
    "\n",
    "\n",
    "### Prof. Robert Quimby\n",
    "&copy; 2019 Robert Quimby"
   ]
  },
  {
   "cell_type": "markdown",
   "metadata": {
    "slideshow": {
     "slide_type": "slide"
    }
   },
   "source": [
    "## In this tutorial you will..."
   ]
  },
  {
   "cell_type": "markdown",
   "metadata": {},
   "source": [
    "- Learn the basics of how your eyes sense color\n",
    "- Rescale 16-bit FITS image data into 8-bit (typical of computer graphics)\n",
    "- Combine three, rescaled images to make one false-color image"
   ]
  },
  {
   "cell_type": "markdown",
   "metadata": {
    "slideshow": {
     "slide_type": "slide"
    }
   },
   "source": [
    "## The Human Eye"
   ]
  },
  {
   "cell_type": "markdown",
   "metadata": {},
   "source": [
    "![](https://askabiologist.asu.edu/sites/default/files/resources/articles/seecolor/Light-though-eye-big.png)"
   ]
  },
  {
   "cell_type": "markdown",
   "metadata": {
    "slideshow": {
     "slide_type": "subslide"
    }
   },
   "source": [
    "<img src=\"https://upload.wikimedia.org/wikipedia/commons/9/94/1416_Color_Sensitivity.jpg\">"
   ]
  },
  {
   "cell_type": "markdown",
   "metadata": {
    "slideshow": {
     "slide_type": "slide"
    }
   },
   "source": [
    "## Fooling the Human Eye"
   ]
  },
  {
   "cell_type": "markdown",
   "metadata": {},
   "source": [
    "![](media/eye.png)"
   ]
  },
  {
   "cell_type": "markdown",
   "metadata": {
    "slideshow": {
     "slide_type": "subslide"
    }
   },
   "source": [
    "![](media/eye_big.png)"
   ]
  },
  {
   "cell_type": "markdown",
   "metadata": {
    "slideshow": {
     "slide_type": "slide"
    }
   },
   "source": [
    "## How to Make a 3-Color Image"
   ]
  },
  {
   "cell_type": "markdown",
   "metadata": {},
   "source": [
    "* Take 3 different images of the same scene, each with a different filter (e.g, B, V, R)\n",
    "* Convert each image to 8-bit\n",
    "* Combine the three 8-bit images into a single data cube"
   ]
  },
  {
   "cell_type": "markdown",
   "metadata": {
    "slideshow": {
     "slide_type": "slide"
    }
   },
   "source": [
    "## Acquire three images in three different bands"
   ]
  },
  {
   "cell_type": "code",
   "execution_count": null,
   "metadata": {},
   "outputs": [],
   "source": [
    "datadir = '/Users/quimby/data/mlo40/170928/proc/'\n",
    "expnums = (83, 84, 85)"
   ]
  },
  {
   "cell_type": "code",
   "execution_count": null,
   "metadata": {
    "slideshow": {
     "slide_type": "fragment"
    }
   },
   "outputs": [],
   "source": [
    "# show the images in DS9\n",
    "for iframe, expnum in enumerate(expnums):\n",
    "    ds9.set('frame {}'.format(iframe))\n",
    "    ds9.set('file {}a{:03d}.fit'.format(datadir, expnum))\n",
    "    ds9.set('scale zscale')\n",
    "    ds9.set('zoom to fit')"
   ]
  },
  {
   "cell_type": "markdown",
   "metadata": {
    "slideshow": {
     "slide_type": "slide"
    }
   },
   "source": [
    "## Convert an Image to 8-bit"
   ]
  },
  {
   "cell_type": "code",
   "execution_count": null,
   "metadata": {
    "slideshow": {
     "slide_type": "-"
    }
   },
   "outputs": [],
   "source": [
    "from astropy.io import fits\n",
    "from astropy.stats import sigma_clip\n",
    "\n",
    "def get_8bit(expnum, smin=-1, smax=8, datadir=datadir):\n",
    "    # load the image data\n",
    "    fname = '{}a{:03d}.fit'.format(datadir, expnum)\n",
    "    image = fits.getdata(fname)\n",
    "    \n",
    "    # pick the black and white values\n",
    "    bgsample = ????\n",
    "    bgmean = ????\n",
    "    bgstd = ????\n",
    "    cmin = ????\n",
    "    cmax = ????\n",
    "    \n",
    "    # rescale data to 8-bit\n",
    "    # (see also scipy.misc.toimage)\n",
    "    scaledim = ????\n",
    "    scaledim[scaledim < 0] = ????\n",
    "    scaledim[scaledim > 255] = ????\n",
    "    byteim = scaledim.astype(np.uint8) \n",
    "    \n",
    "    return byteim"
   ]
  },
  {
   "cell_type": "code",
   "execution_count": null,
   "metadata": {
    "slideshow": {
     "slide_type": "subslide"
    }
   },
   "outputs": [],
   "source": [
    "# load each band\n",
    "r = get_8bit(expnums[0], smax=18)\n",
    "g = get_8bit(expnums[1], smax=20)\n",
    "b = get_8bit(expnums[2], smax=20)"
   ]
  },
  {
   "cell_type": "markdown",
   "metadata": {
    "slideshow": {
     "slide_type": "slide"
    }
   },
   "source": [
    "## Combine Three 8-bit Images to Make a Color Image"
   ]
  },
  {
   "cell_type": "code",
   "execution_count": null,
   "metadata": {
    "slideshow": {
     "slide_type": "-"
    }
   },
   "outputs": [],
   "source": [
    "ny, nx = r.shape\n",
    "im = np.zeros( (????), dtype='uint8')\n",
    "im[:, :, 0] = ????\n",
    "\n",
    "plt.figure(figsize=(10, 10))\n",
    "plt.imshow(im)\n",
    "plt.axis('off');"
   ]
  },
  {
   "cell_type": "markdown",
   "metadata": {
    "slideshow": {
     "slide_type": "slide"
    }
   },
   "source": [
    "## Save as PNG, JPEG, etc."
   ]
  },
  {
   "cell_type": "code",
   "execution_count": null,
   "metadata": {},
   "outputs": [],
   "source": [
    "from PIL import Image\n",
    "pim = Image.fromarray(im)\n",
    "pim.save(\"m27.png\")"
   ]
  },
  {
   "cell_type": "markdown",
   "metadata": {
    "slideshow": {
     "slide_type": "slide"
    }
   },
   "source": [
    "## RGB Color Images with DS9"
   ]
  },
  {
   "cell_type": "markdown",
   "metadata": {},
   "source": [
    "* detailed instructions at http://ds9.si.edu/doc/user/rgb/index.html"
   ]
  },
  {
   "cell_type": "code",
   "execution_count": null,
   "metadata": {
    "slideshow": {
     "slide_type": "fragment"
    }
   },
   "outputs": [],
   "source": [
    "# creat an RGB frame\n",
    "ds9.set('rgb');"
   ]
  },
  {
   "cell_type": "code",
   "execution_count": null,
   "metadata": {
    "slideshow": {
     "slide_type": "fragment"
    }
   },
   "outputs": [],
   "source": [
    "for color, expnum in zip(['red', 'green', 'blue'], expnums):\n",
    "    ds9.set('rgb {}'.format(color))\n",
    "    ds9.set('file {}a{:03d}.fit'.format(datadir, expnum))\n",
    "    ds9.set('scale zscale')\n",
    "    ds9.set('zoom to fit')"
   ]
  }
 ],
 "metadata": {
  "anaconda-cloud": {},
  "celltoolbar": "Slideshow",
  "kernelspec": {
   "display_name": "Python 3",
   "language": "python",
   "name": "python3"
  },
  "language_info": {
   "codemirror_mode": {
    "name": "ipython",
    "version": 3
   },
   "file_extension": ".py",
   "mimetype": "text/x-python",
   "name": "python",
   "nbconvert_exporter": "python",
   "pygments_lexer": "ipython3",
   "version": "3.5.6"
  },
  "livereveal": {
   "scroll": "True",
   "start_slideshow_at": "selected"
  }
 },
 "nbformat": 4,
 "nbformat_minor": 1
}
