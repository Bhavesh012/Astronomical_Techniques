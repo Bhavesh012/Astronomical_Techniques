{
 "cells": [
  {
   "cell_type": "markdown",
   "metadata": {
    "slideshow": {
     "slide_type": "slide"
    }
   },
   "source": [
    "# Propagating Uncertainties\n",
    "## Finding the uncertainty in derived results based on the measurement uncertainty\n",
    "\n",
    "### Prof. Robert Quimby\n",
    "&copy; 2018 Robert Quimby"
   ]
  },
  {
   "cell_type": "markdown",
   "metadata": {
    "slideshow": {
     "slide_type": "slide"
    }
   },
   "source": [
    "## In this tutorial you will..."
   ]
  },
  {
   "cell_type": "markdown",
   "metadata": {},
   "source": [
    "* Learn that the uncertainty in your results depends on the uncertainty in your measurements\n",
    "* Review partial derivatives\n",
    "* Use the uncertainty propagation formula to derive the uncertainty in your result\n",
    "* See examples of uncertainty propagation"
   ]
  },
  {
   "cell_type": "markdown",
   "metadata": {
    "slideshow": {
     "slide_type": "slide"
    }
   },
   "source": [
    "## Resources"
   ]
  },
  {
   "cell_type": "markdown",
   "metadata": {},
   "source": [
    "* see, \"Data Reduction and Error Analysis for the Physical Sciences,\" (Bevington & Robinson 1992)\n",
    "* or, \"An Introduction to Error Analysis,\" (Taylor 1997)"
   ]
  },
  {
   "cell_type": "markdown",
   "metadata": {
    "slideshow": {
     "slide_type": "slide"
    }
   },
   "source": [
    "## Statement of the problem"
   ]
  },
  {
   "cell_type": "markdown",
   "metadata": {},
   "source": [
    "You make one or more measurements (each with random, independent uncertainties) and use these to derive a result. What is the uncertainty in this result?"
   ]
  },
  {
   "cell_type": "markdown",
   "metadata": {
    "slideshow": {
     "slide_type": "fragment"
    }
   },
   "source": [
    "### Example:\n",
    "You measure the width and height of a rectangle and compute its area. What is the uncertainty in this area given the uncertainty in your length measurements?"
   ]
  },
  {
   "cell_type": "markdown",
   "metadata": {
    "slideshow": {
     "slide_type": "slide"
    }
   },
   "source": [
    "## Propagating Uncertanties"
   ]
  },
  {
   "cell_type": "markdown",
   "metadata": {},
   "source": [
    "* (often called \"Error Propagation\")"
   ]
  },
  {
   "cell_type": "markdown",
   "metadata": {
    "slideshow": {
     "slide_type": "fragment"
    }
   },
   "source": [
    "* Given a function $f$ of several variables, $x_0, x_1 ... x_{n-1}$, if the variables have random, **independent** uncertainties, $\\sigma_{x_0}, \\sigma_{x_1} ... \\sigma_{x_{n-1}}$, then the uncertainty in the function, $\\sigma_f$, is:\n",
    "\n",
    "$$ \\sigma_f = \\sqrt{ \\left( {\\partial f \\over \\partial x_0 }\\sigma_{x_0}\\right)^2\n",
    "                   + \\left( {\\partial f \\over \\partial x_1 }\\sigma_{x_1}\\right)^2\n",
    "                   + ...\n",
    "                   + \\left( {\\partial f \\over \\partial x_n }\\sigma_{x_{n-1}}\\right)^2\n",
    "                    } $$"
   ]
  },
  {
   "cell_type": "markdown",
   "metadata": {
    "slideshow": {
     "slide_type": "slide"
    }
   },
   "source": [
    "## Partial Derivatives "
   ]
  },
  {
   "cell_type": "markdown",
   "metadata": {},
   "source": [
    "To take the partial derivative of a function, $f(x, y, z)$, with respect to one variable, say, $x$, compute the derivative with respect to $x$ holding all other variables constant. "
   ]
  },
  {
   "cell_type": "markdown",
   "metadata": {
    "slideshow": {
     "slide_type": "fragment"
    }
   },
   "source": [
    "For example, if \n",
    "$$f(x, y) = Ax + Bxy + Cy$$\n",
    "then we have the partial derivatives:\n",
    "\n",
    "$${\\partial f \\over \\partial x} = A + By$$\n",
    "and\n",
    "$${\\partial f \\over \\partial y} = Bx + C$$\n"
   ]
  },
  {
   "cell_type": "markdown",
   "metadata": {
    "slideshow": {
     "slide_type": "slide"
    }
   },
   "source": [
    "## Uncertainty propagation example: Addition"
   ]
  },
  {
   "cell_type": "markdown",
   "metadata": {},
   "source": [
    "$$f = A + B$$\n",
    "\n",
    "so\n",
    "\n",
    "$$ \\sigma_f = \\sqrt{ \\left( {\\partial f \\over \\partial A }\\sigma_{A}\\right)^2\n",
    "                   + \\left( {\\partial f \\over \\partial B }\\sigma_{B}\\right)^2 }$$\n",
    "                   \n",
    "or, since ${\\partial f \\over \\partial A } = 1$ and ${\\partial f \\over \\partial B} = 1$, simply\n",
    "\n",
    "$$ \\sigma_f = \\sqrt{ \\sigma_{A}^2 + \\sigma_{B}^2 } $$"
   ]
  },
  {
   "cell_type": "markdown",
   "metadata": {
    "slideshow": {
     "slide_type": "slide"
    }
   },
   "source": [
    "## Uncertainty propagation example: Multiplication"
   ]
  },
  {
   "cell_type": "markdown",
   "metadata": {},
   "source": [
    "$$f = A B$$\n",
    "\n",
    "and\n",
    "\n",
    "$${\\partial f \\over \\partial A } = B\\ ,\\ {\\partial f \\over \\partial B} = A$$\n",
    "\n",
    "so\n",
    "\n",
    "$$ \\sigma_f = \\sqrt{ B^2\\sigma_{A}^2 + A^2\\sigma_{B}^2 } $$"
   ]
  },
  {
   "cell_type": "markdown",
   "metadata": {
    "slideshow": {
     "slide_type": "slide"
    }
   },
   "source": [
    "## Uncertainty propagation example: Division"
   ]
  },
  {
   "cell_type": "markdown",
   "metadata": {},
   "source": [
    "$$f = A / B$$\n",
    "\n",
    "and\n",
    "\n",
    "$${\\partial f \\over \\partial A } = {1 \\over B}\\ ,\\ {\\partial f \\over \\partial B} = -{A \\over B^2}$$\n",
    "\n",
    "so\n",
    "\n",
    "$$ \\sigma_f = \\sqrt{ {\\sigma_{A}^2 \\over B^2} + {A^2\\sigma_{B}^2 \\over B^4} } $$"
   ]
  },
  {
   "cell_type": "markdown",
   "metadata": {
    "slideshow": {
     "slide_type": "slide"
    }
   },
   "source": [
    "## Exercise for the viewer"
   ]
  },
  {
   "cell_type": "markdown",
   "metadata": {
    "slideshow": {
     "slide_type": "-"
    }
   },
   "source": [
    "Verify that the fractional uncertainty, ${\\sigma_f \\over \\left| f \\right|}$, for both multiplication and division is:\n",
    "$$ {\\sigma_f \\over \\left| f \\right|} =  \\sqrt{ \\left( {\\sigma_A \\over A }\\right)^2 \n",
    "                                     + \\left( {\\sigma_B \\over B }\\right)^2 } $$"
   ]
  }
 ],
 "metadata": {
  "kernelspec": {
   "display_name": "Python 3",
   "language": "python",
   "name": "python3"
  },
  "language_info": {
   "codemirror_mode": {
    "name": "ipython",
    "version": 3
   },
   "file_extension": ".py",
   "mimetype": "text/x-python",
   "name": "python",
   "nbconvert_exporter": "python",
   "pygments_lexer": "ipython3",
   "version": "3.5.6"
  },
  "livereveal": {
   "scroll": "True",
   "start_slideshow_at": "selected"
  }
 },
 "nbformat": 4,
 "nbformat_minor": 1
}
