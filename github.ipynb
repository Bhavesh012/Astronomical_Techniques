{
 "cells": [
  {
   "cell_type": "markdown",
   "metadata": {
    "slideshow": {
     "slide_type": "slide"
    }
   },
   "source": [
    "# GitHub\n",
    "## an introduction\n",
    "\n",
    "<img src=\"https://github.githubassets.com/images/modules/logos_page/GitHub-Mark.png\" height=\"200\" width=\"200\">\n",
    "https://github.com/\n",
    "\n",
    "### Prof. Robert Quimby\n",
    "\n",
    "&copy; 2018 Robert Quimby"
   ]
  },
  {
   "cell_type": "markdown",
   "metadata": {
    "slideshow": {
     "slide_type": "slide"
    }
   },
   "source": [
    "## In this Tutorial you will:\n",
    "* see how to share files on GitHub\n",
    "* learn about `git`, the version control software at the heart of GitHub\n",
    "* practice pulling (downloading) files from GitHub using the `git` command"
   ]
  },
  {
   "cell_type": "markdown",
   "metadata": {
    "slideshow": {
     "slide_type": "slide"
    }
   },
   "source": [
    "## GitHub resources\n",
    "* https://guides.github.com/\n",
    "* `git` cheat sheet -- https://education.github.com/git-cheat-sheet-education.pdf"
   ]
  },
  {
   "cell_type": "markdown",
   "metadata": {
    "slideshow": {
     "slide_type": "slide"
    }
   },
   "source": [
    "## So What does GitHub do?\n",
    "\n",
    "* GitHub is for file sharing\n",
    "* you can push (upload) files and others can pull (download) them to their computers\n",
    "  * in this case there would be 3 copies of the file:\n",
    "    1. Your copy\n",
    "    2. the copy on GitHub\n",
    "    3. Your friend's copy"
   ]
  },
  {
   "cell_type": "markdown",
   "metadata": {
    "slideshow": {
     "slide_type": "slide"
    }
   },
   "source": [
    "## What if I alter the file?\n",
    "\n",
    "* If you change your local copy, the copies on GitHub and your friend's computers are *not* affected."
   ]
  },
  {
   "cell_type": "markdown",
   "metadata": {
    "slideshow": {
     "slide_type": "slide"
    }
   },
   "source": [
    "## How do I send the changes to my friends?\n",
    "\n",
    "* You can push (upload) your changes to GitHub\n",
    "* Then your friends can pull (download) the new version"
   ]
  },
  {
   "cell_type": "markdown",
   "metadata": {
    "slideshow": {
     "slide_type": "slide"
    }
   },
   "source": [
    "## What if my friends want to make a change?\n",
    "\n",
    "* They can make a \"push request\"\n",
    "* If you like the change, you can accept it and the copy on GitHub will change\n",
    "* But you will still have to pull (download) the new GitHub version to your computer if you want the changes"
   ]
  },
  {
   "cell_type": "markdown",
   "metadata": {
    "slideshow": {
     "slide_type": "slide"
    }
   },
   "source": [
    "## How do we keep track of all the changes to the files?\n",
    "* This is where `git` comes in\n",
    "* `git` is a program that keeps track of different versions\n",
    "* you can make changes to a file and then `commit` them to a *repository*\n",
    "  * a repository is like a folder that holds all the files and their previous versions\n",
    "* you run `git` on your computer and you can use it to push/pull files to/from GitHub"
   ]
  },
  {
   "cell_type": "markdown",
   "metadata": {
    "slideshow": {
     "slide_type": "slide"
    }
   },
   "source": [
    "## Getting set up for `git`\n",
    "\n",
    "* initial setup: see the [`git` cheat sheet](https://education.github.com/git-cheat-sheet-education.pdf)\n",
    "* it is easiest to first create a new repository using [GitHub](http://github.com)\n",
    "* create a directory your computer to store your git repositories\n",
    "* you then use the `git clone` command to copy the current version of the GitHub repository to your computer"
   ]
  },
  {
   "cell_type": "markdown",
   "metadata": {
    "slideshow": {
     "slide_type": "slide"
    }
   },
   "source": [
    "## Create some content on your computer\n",
    "* You can create or move a file into the `git` repo on your computer\n",
    "* But this will *not* automatically copy the file to GitHub"
   ]
  },
  {
   "cell_type": "markdown",
   "metadata": {
    "slideshow": {
     "slide_type": "slide"
    }
   },
   "source": [
    "## Want to send your content to GitHub?\n",
    "\n",
    "* first `git add` the files you want to update\n",
    "* `git commit` to save the current version of these files\n",
    "* then you can `git push` the files to GitHub"
   ]
  }
 ],
 "metadata": {
  "kernelspec": {
   "display_name": "Python 3",
   "language": "python",
   "name": "python3"
  },
  "language_info": {
   "codemirror_mode": {
    "name": "ipython",
    "version": 3
   },
   "file_extension": ".py",
   "mimetype": "text/x-python",
   "name": "python",
   "nbconvert_exporter": "python",
   "pygments_lexer": "ipython3",
   "version": "3.5.4"
  },
  "livereveal": {
   "scroll": "True",
   "start_slideshow_at": "selected"
  }
 },
 "nbformat": 4,
 "nbformat_minor": 1
}
