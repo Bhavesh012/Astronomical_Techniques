{
 "cells": [
  {
   "cell_type": "markdown",
   "metadata": {
    "slideshow": {
     "slide_type": "slide"
    }
   },
   "source": [
    "# $\\chi^2$ (chi-square)\n",
    "## finding how well a model fits the data\n",
    "\n",
    "![]()\n",
    "\n",
    "### Prof. Robert Quimby\n",
    "&copy; 2019 Robert Quimby"
   ]
  },
  {
   "cell_type": "markdown",
   "metadata": {
    "slideshow": {
     "slide_type": "slide"
    }
   },
   "source": [
    "## In this tutorial you will..."
   ]
  },
  {
   "cell_type": "markdown",
   "metadata": {},
   "source": [
    "- Learn how to quantify the likelihood that a set of data follow from a given model\n",
    "- Find the set of model parameters that maximize this likelihood\n",
    "- Learn about the $\\chi^2$ parameter and how it relates to this likelihood"
   ]
  },
  {
   "cell_type": "code",
   "execution_count": null,
   "metadata": {
    "slideshow": {
     "slide_type": "slide"
    }
   },
   "outputs": [],
   "source": [
    "import numpy as np\n",
    "import matplotlib.pyplot as plt\n",
    "%matplotlib inline"
   ]
  },
  {
   "cell_type": "code",
   "execution_count": null,
   "metadata": {
    "slideshow": {
     "slide_type": "-"
    }
   },
   "outputs": [],
   "source": [
    "plt.rc('axes', labelsize=14)\n",
    "plt.rc('axes', labelweight='bold')\n",
    "plt.rc('axes', titlesize=16)\n",
    "plt.rc('axes', titleweight='bold')\n",
    "plt.rc('font', family='sans-serif')\n",
    "plt.rcParams['figure.figsize'] = (10, 7)"
   ]
  },
  {
   "cell_type": "markdown",
   "metadata": {
    "slideshow": {
     "slide_type": "slide"
    }
   },
   "source": [
    "## Lets start with some real data and a model"
   ]
  },
  {
   "cell_type": "code",
   "execution_count": null,
   "metadata": {
    "scrolled": false,
    "slideshow": {
     "slide_type": "-"
    }
   },
   "outputs": [],
   "source": [
    "data = np.genfromtxt('media/data.dat', names='x, y, ey')\n",
    "plt.errorbar(data['x'], data['y'], yerr=data['ey'], fmt='ro')"
   ]
  },
  {
   "cell_type": "markdown",
   "metadata": {
    "slideshow": {
     "slide_type": "slide"
    }
   },
   "source": [
    "## How well does each data point agree with the model?"
   ]
  },
  {
   "cell_type": "markdown",
   "metadata": {},
   "source": [
    "If we assume the data are normally (=Gaussian) distributed about the model, then the (relative) probability of measuring a data point, ${\\rm data}_i$, that deviates some amount from the model prediction, ${\\rm model}_i$, is:\n",
    "\n",
    "$$ P({\\rm data}_i) = {1 \\over \\sqrt{2\\pi\\sigma_i^2}} e^{ -\\Delta Y_i^2 / 2 \\sigma_i^2 } $$\n",
    "\n",
    "where:\n",
    "- $\\Delta Y_i$ is ${\\rm data}_i - {\\rm model}_i$\n",
    "- $\\sigma_i$ is the uncertainty in the $i^{\\rm th}$ measurement"
   ]
  },
  {
   "cell_type": "markdown",
   "metadata": {
    "slideshow": {
     "slide_type": "slide"
    }
   },
   "source": [
    "\n",
    "## Total probability"
   ]
  },
  {
   "cell_type": "markdown",
   "metadata": {},
   "source": [
    "The total probability of getting a set of data, $I$, given a model, $\\theta$, is the product of the individual probabilities of each data point:\n",
    "\n",
    "$$P\\left(I \\,\\middle| \\, \\theta \\right) = \\prod_i {1 \\over \\sqrt{2\\pi\\sigma_i^2}} e^{ -\\Delta Y_i^2 / 2 \\sigma_i^2 }$$"
   ]
  },
  {
   "cell_type": "markdown",
   "metadata": {
    "slideshow": {
     "slide_type": "fragment"
    }
   },
   "source": [
    "The technical term for this probability is the \"likelihood\", and it is often written with a fancy L instead of the P:\n",
    "\n",
    "$${\\cal L}\\left(I \\,\\middle| \\, \\theta \\right)$$"
   ]
  },
  {
   "cell_type": "markdown",
   "metadata": {
    "slideshow": {
     "slide_type": "slide"
    }
   },
   "source": [
    "## It is often easier to work with the natural log of the likelihood"
   ]
  },
  {
   "cell_type": "markdown",
   "metadata": {},
   "source": [
    "$$\\ln {\\cal L}\\left(I \\,\\middle| \\, \\theta \\right) =\n",
    "-{1 \\over 2}\\left[ \\sum_i \\ln 2\\pi\\sigma_i^2 + \\sum_i{ \\left( { \\Delta Y_i \\over \\sigma_i} \\right)^2 } \\right] $$"
   ]
  },
  {
   "cell_type": "markdown",
   "metadata": {
    "slideshow": {
     "slide_type": "fragment"
    }
   },
   "source": [
    "Ignoring the first term (which does not depend on the model), we see that:\n",
    "$$\\ln {\\cal L}\\left(I \\,\\middle| \\, \\theta \\right) \\sim  -{1 \\over 2} \\sum_i{ \\left( { \\Delta Y_i \\over \\sigma_i} \\right)^2 }$$"
   ]
  },
  {
   "cell_type": "markdown",
   "metadata": {
    "slideshow": {
     "slide_type": "slide"
    }
   },
   "source": [
    "## The $\\chi^2$ (chi-squared) value"
   ]
  },
  {
   "cell_type": "markdown",
   "metadata": {
    "slideshow": {
     "slide_type": "-"
    }
   },
   "source": [
    "$$\\chi^2 = \\sum_i{ \\left( { \\Delta Y_i \\over \\sigma_i} \\right)^2 }$$"
   ]
  },
  {
   "cell_type": "markdown",
   "metadata": {
    "slideshow": {
     "slide_type": "slide"
    }
   },
   "source": [
    "## Relation between likelihood and $\\chi^2$"
   ]
  },
  {
   "cell_type": "markdown",
   "metadata": {},
   "source": [
    "The (relative) probability of randomly drawing a specific sample of data given a model is related to the $\\chi^2$ of the data given the model:\n",
    "\n",
    "$${\\cal L}\\left(I \\,\\middle| \\, \\theta \\right) \\sim  e^{-\\chi^2 / 2}$$\n"
   ]
  },
  {
   "cell_type": "markdown",
   "metadata": {
    "slideshow": {
     "slide_type": "fragment"
    }
   },
   "source": [
    "In other words, the set of parameters that **minimizes** the $\\chi^2$ defines the model that **maximizes** the likelihood that the data were drawn from said model."
   ]
  },
  {
   "cell_type": "markdown",
   "metadata": {
    "slideshow": {
     "slide_type": "slide"
    }
   },
   "source": [
    "## $\\chi^2$ minimization (= likelihood maximization)"
   ]
  },
  {
   "cell_type": "markdown",
   "metadata": {},
   "source": [
    "This what we have been doing with our least-squares fitting, but there are other ways to look at this problem.\n",
    "\n",
    "For example, we can write a function to return the $\\chi^2$ value for a set of data given some model parameters, and then adjust the model parameters to minimize the $\\chi^2$."
   ]
  },
  {
   "cell_type": "markdown",
   "metadata": {
    "slideshow": {
     "slide_type": "slide"
    }
   },
   "source": [
    "## Lets calculate the $\\chi^2$ value for our data and model"
   ]
  },
  {
   "cell_type": "code",
   "execution_count": null,
   "metadata": {
    "slideshow": {
     "slide_type": "subslide"
    }
   },
   "outputs": [],
   "source": [
    "# define the model (y = mx + b)\n",
    "def line_model(params, x):\n",
    "    y = ????\n",
    "    return y"
   ]
  },
  {
   "cell_type": "code",
   "execution_count": null,
   "metadata": {
    "slideshow": {
     "slide_type": "fragment"
    }
   },
   "outputs": [],
   "source": [
    "def get_chisq(params, data):\n",
    "    model = ????\n",
    "    dY = ????\n",
    "    return ????"
   ]
  },
  {
   "cell_type": "code",
   "execution_count": null,
   "metadata": {
    "slideshow": {
     "slide_type": "subslide"
    }
   },
   "outputs": [],
   "source": [
    "params = ????\n",
    "modelx = ????\n",
    "modely = ????\n",
    "plt.errorbar(data['x'], data['y'], yerr=data['ey'], fmt='ro')\n",
    "plt.plot(modelx, modely);"
   ]
  },
  {
   "cell_type": "markdown",
   "metadata": {
    "slideshow": {
     "slide_type": "slide"
    }
   },
   "source": [
    "## Determine model parameters by brute force"
   ]
  },
  {
   "cell_type": "code",
   "execution_count": null,
   "metadata": {},
   "outputs": [],
   "source": [
    "# brute-force fitting\n",
    "ntest = ????\n",
    "m = np.linspace(????)\n",
    "b = np.linspace(????)\n",
    "chisq = np.zeros( (ntest, ntest) )\n",
    "for i in range(ntest):\n",
    "    for j in range(ntest):\n",
    "        chisq[i, j] = ????"
   ]
  },
  {
   "cell_type": "code",
   "execution_count": null,
   "metadata": {
    "slideshow": {
     "slide_type": "subslide"
    }
   },
   "outputs": [],
   "source": [
    "# plot the 2D probability distribution\n",
    "prob = ????\n",
    "plt.imshow(prob, extent=[b[0], b[-1], m[0], m[-1]], aspect='auto', origin='lower')\n",
    "plt.xlabel('Offset ($b$)')\n",
    "plt.ylabel('Slope ($m$)');"
   ]
  },
  {
   "cell_type": "code",
   "execution_count": null,
   "metadata": {
    "slideshow": {
     "slide_type": "subslide"
    }
   },
   "outputs": [],
   "source": [
    "# best fit values\n",
    "i, j = ????\n",
    "print(m[i], b[j])"
   ]
  },
  {
   "cell_type": "markdown",
   "metadata": {
    "slideshow": {
     "slide_type": "fragment"
    }
   },
   "source": [
    "#### What is the uncertainty in these parameters?"
   ]
  },
  {
   "cell_type": "markdown",
   "metadata": {
    "slideshow": {
     "slide_type": "slide"
    }
   },
   "source": [
    "## Marginalized probabilities"
   ]
  },
  {
   "cell_type": "markdown",
   "metadata": {},
   "source": [
    "We can integrate (sum) over one dimension (e.g., the offset parameter $b$) to get the total probability for another dimension (e.g., the slope parameter $m$)."
   ]
  },
  {
   "cell_type": "code",
   "execution_count": null,
   "metadata": {
    "slideshow": {
     "slide_type": "subslide"
    }
   },
   "outputs": [],
   "source": [
    "prob_m = ????\n",
    "plt.plot(m, prob_m);"
   ]
  },
  {
   "cell_type": "markdown",
   "metadata": {
    "slideshow": {
     "slide_type": "slide"
    }
   },
   "source": [
    "## A Faster Way to Find the $\\chi^2$ Minimum"
   ]
  },
  {
   "cell_type": "code",
   "execution_count": null,
   "metadata": {
    "slideshow": {
     "slide_type": "fragment"
    }
   },
   "outputs": [],
   "source": [
    "# use scipy optimize\n",
    "from scipy.optimize import fmin\n",
    "\n",
    "guess = ????\n",
    "fmin(????)"
   ]
  }
 ],
 "metadata": {
  "kernelspec": {
   "display_name": "Python 3",
   "language": "python",
   "name": "python3"
  },
  "language_info": {
   "codemirror_mode": {
    "name": "ipython",
    "version": 3
   },
   "file_extension": ".py",
   "mimetype": "text/x-python",
   "name": "python",
   "nbconvert_exporter": "python",
   "pygments_lexer": "ipython3",
   "version": "3.5.6"
  },
  "livereveal": {
   "scroll": "True",
   "start_slideshow_at": "selected"
  }
 },
 "nbformat": 4,
 "nbformat_minor": 1
}
