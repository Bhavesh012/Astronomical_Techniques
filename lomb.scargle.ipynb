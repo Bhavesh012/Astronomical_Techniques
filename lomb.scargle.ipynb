{
 "cells": [
  {
   "cell_type": "code",
   "execution_count": null,
   "metadata": {
    "slideshow": {
     "slide_type": "skip"
    }
   },
   "outputs": [],
   "source": [
    "import numpy as np\n",
    "\n",
    "%matplotlib inline\n",
    "import matplotlib.pyplot as plt"
   ]
  },
  {
   "cell_type": "code",
   "execution_count": null,
   "metadata": {
    "slideshow": {
     "slide_type": "skip"
    }
   },
   "outputs": [],
   "source": [
    "# reset defalult plotting values\n",
    "plt.rcParams['figure.figsize'] = (15, 5)\n",
    "plt.rc('font', family='sans-serif')\n",
    "plt.rc('axes', labelsize=14)\n",
    "plt.rc('axes', labelweight='bold')\n",
    "plt.rc('axes', titlesize=16)\n",
    "plt.rc('axes', titleweight='bold')\n",
    "plt.rc('axes', linewidth=2)\n",
    "plt.rc('xtick',labelsize=14)\n",
    "plt.rc('ytick',labelsize=14)"
   ]
  },
  {
   "cell_type": "markdown",
   "metadata": {
    "slideshow": {
     "slide_type": "subslide"
    }
   },
   "source": [
    "# Lomb-Scargle Periodogram\n",
    "## Finding the period of a periodic signal\n",
    "\n",
    "<img src=\"media/lomb-scargle.png\" width=900>\n",
    "\n",
    "### Prof. Robert Quimby\n",
    "&copy; 2020 Robert Quimby"
   ]
  },
  {
   "cell_type": "markdown",
   "metadata": {
    "slideshow": {
     "slide_type": "slide"
    }
   },
   "source": [
    "## In this tutorial you will..."
   ]
  },
  {
   "cell_type": "markdown",
   "metadata": {},
   "source": [
    "- Review Fourier decomposition of arbitrary periodic signals into weighted sums of sine and cosine terms\n",
    "- Create a periodic signal and consider the power in each frequency\n",
    "- Given a periodic signal, determine the power in each frequency\n",
    "- Use a Lomb-Scargle periodogram to determine the period of a real astrophysical signal"
   ]
  },
  {
   "cell_type": "markdown",
   "metadata": {
    "slideshow": {
     "slide_type": "fragment"
    }
   },
   "source": [
    "For a more complete introduction, see [Jake VanderPlas' paper](https://ui.adsabs.harvard.edu/abs/2018ApJS..236...16V/abstract) on \"Understanding the Lomb-Scargle Periodogram\""
   ]
  },
  {
   "cell_type": "markdown",
   "metadata": {
    "slideshow": {
     "slide_type": "slide"
    }
   },
   "source": [
    "## Fourier Decomposition"
   ]
  },
  {
   "cell_type": "markdown",
   "metadata": {},
   "source": [
    "Any periodic function, $f(x)$, can be expressed as a sum of sine and cosine waves of various amplitudes and frequencies as follows:\n",
    "\n",
    "$$f(x) = {1 \\over 2}a_0 + \\sum_{n=1}^{\\infty}a_n \\cos(nx) + \\sum_{n=1}^{\\infty}b_n \\sin(nx)  $$\n",
    "\n",
    "(see http://mathworld.wolfram.com/FourierSeries.html)"
   ]
  },
  {
   "cell_type": "markdown",
   "metadata": {
    "slideshow": {
     "slide_type": "slide"
    }
   },
   "source": [
    "## Fourier decomposition example: triangle waves"
   ]
  },
  {
   "cell_type": "markdown",
   "metadata": {},
   "source": [
    "$$f(t) = {8 \\over \\pi^2} \\sum_{n=1, 3, 5, ...}^{\\infty}{(-1)^{(n-1)/2} \\over n^2} \\sin\\left(2\\pi n t \\over P\\right)  $$\n",
    "\n"
   ]
  },
  {
   "cell_type": "code",
   "execution_count": null,
   "metadata": {
    "slideshow": {
     "slide_type": "fragment"
    }
   },
   "outputs": [],
   "source": [
    "def triangle_wave(t, nterms, period=1):\n",
    "    components = []\n",
    "    for n in range(1, 2*nterms, 2):\n",
    "        A = ????\n",
    "        f = ????\n",
    "        wave = A * np.sin(2 * np.pi * f * t)\n",
    "        components.append(8 / np.pi**2 * wave)\n",
    "    return np.array(components)"
   ]
  },
  {
   "cell_type": "code",
   "execution_count": null,
   "metadata": {
    "scrolled": true,
    "slideshow": {
     "slide_type": "subslide"
    }
   },
   "outputs": [],
   "source": [
    "t = np.linspace(0, 3, 1000)\n",
    "components = triangle_wave(t, ????)\n",
    "for component in components:\n",
    "    plt.plot(t, component)\n",
    "\n",
    "plt.grid()"
   ]
  },
  {
   "cell_type": "markdown",
   "metadata": {
    "slideshow": {
     "slide_type": "slide"
    }
   },
   "source": [
    "## Power in each frequency"
   ]
  },
  {
   "cell_type": "code",
   "execution_count": null,
   "metadata": {},
   "outputs": [],
   "source": [
    "# gather the frequencies and amplitudes for each individual\n",
    "# sine wave contributing to the triangular waveform\n",
    "b_n = []\n",
    "f_n = []\n",
    "nterms = 6\n",
    "period = 1.0\n",
    "for n in range(1, 2*nterms, 1):\n",
    "    if n % 2 == 0:\n",
    "        A = 0\n",
    "    else:\n",
    "        A = (-1)**( (n - 1) / 2 ) / n**2 \n",
    "    b_n.append(A)\n",
    "    f_n.append(n / period)\n",
    "b_n = np.array(b_n)\n",
    "f_n = np.array(f_n)"
   ]
  },
  {
   "cell_type": "code",
   "execution_count": null,
   "metadata": {
    "slideshow": {
     "slide_type": "subslide"
    }
   },
   "outputs": [],
   "source": [
    "# plot the coefficients\n",
    "plt.bar( ???? )\n",
    "plt.xlabel('Frequency')\n",
    "plt.ylabel(r'$b_n$')\n",
    "plt.grid()"
   ]
  },
  {
   "cell_type": "code",
   "execution_count": null,
   "metadata": {
    "slideshow": {
     "slide_type": "subslide"
    }
   },
   "outputs": [],
   "source": [
    "# plot the power in each coefficient\n",
    "plt.bar( ???? )\n",
    "plt.xlabel('Frequency')\n",
    "plt.ylabel('Power/Frequency')\n",
    "plt.grid()"
   ]
  },
  {
   "cell_type": "markdown",
   "metadata": {
    "slideshow": {
     "slide_type": "slide"
    }
   },
   "source": [
    "## Given a discretely sampled signal, how can we determine the power in each frequency?"
   ]
  },
  {
   "cell_type": "code",
   "execution_count": null,
   "metadata": {},
   "outputs": [],
   "source": [
    "# given only a `signal` sampled at times `t`\n",
    "t = np.linspace(0, 10, 200)\n",
    "signal = triangle_wave(t, nterms).sum(axis=0)\n",
    "plt.scatter(t, signal)\n",
    "plt.grid();"
   ]
  },
  {
   "cell_type": "markdown",
   "metadata": {
    "slideshow": {
     "slide_type": "slide"
    }
   },
   "source": [
    "## Fit sinusoids of different frequencies to the data "
   ]
  },
  {
   "cell_type": "markdown",
   "metadata": {},
   "source": [
    "At times, $t$, create sinusoids of the form:\n",
    "$$y = A \\cos(2 \\pi f t + \\phi)$$\n",
    "\n",
    "where $f$ is the test frequency and the amplitude, $A$, and phase shift, $\\phi$ are model parameters to optimize against the data."
   ]
  },
  {
   "cell_type": "markdown",
   "metadata": {
    "slideshow": {
     "slide_type": "slide"
    }
   },
   "source": [
    "## Re-Cast in a form that is linear with the parameters $A$ and $\\phi$"
   ]
  },
  {
   "cell_type": "markdown",
   "metadata": {
    "slideshow": {
     "slide_type": "subslide"
    }
   },
   "source": [
    "We can use the trig identity:\n",
    "$$A\\cos(\\theta + \\phi ) = B\\cos \\theta + C\\sin \\theta$$\n",
    "\n",
    "where\n",
    "$$\\theta = 2 \\pi f t \\ ,$$\n",
    "\n",
    "$$A = {B \\over |B|}\\sqrt{B^2 + C^2} \\ ,$$\n",
    "\n",
    "and\n",
    "$$\\phi = \\arctan \\left(-{C \\over B}\\right)$$"
   ]
  },
  {
   "cell_type": "markdown",
   "metadata": {
    "slideshow": {
     "slide_type": "slide"
    }
   },
   "source": [
    "## Least-Squares fit to find best $A$ and $\\phi$ at each frequency"
   ]
  },
  {
   "cell_type": "markdown",
   "metadata": {},
   "source": [
    "With signal measurements, $y = [y_1, y_2, ..., y_N]$ at times, $t = [t_1, t_2, ..., t_N]$, and assuming a model of the form $y = B \\cos{\\theta} + C \\sin{\\theta}$,\n",
    "\n",
    "$$\n",
    "\\left[ \\begin{array}{c}\n",
    "y_1  \\\\\n",
    "y_2  \\\\\n",
    " \\vdots  \\\\\n",
    "y_N  \\end{array} \\right] = \\left[ \\begin{array}{ccc}\n",
    "\\cos{2 \\pi f t_1} & \\sin{2 \\pi f t_1} \\\\\n",
    "\\cos{2 \\pi f t_2} & \\sin{2 \\pi f t_2} \\\\\n",
    " \\vdots & \\vdots \\\\\n",
    "\\cos{2 \\pi f t_N} & \\sin{2 \\pi f t_N}\\end{array} \\right] \n",
    "\\left[ \\begin{array}{c}\n",
    "B \\\\\n",
    "C \\end{array} \\right] $$\n"
   ]
  },
  {
   "cell_type": "code",
   "execution_count": null,
   "metadata": {
    "slideshow": {
     "slide_type": "subslide"
    }
   },
   "outputs": [],
   "source": [
    "# get the best fit amplitude and phase at each test frequency\n",
    "freqs = ????\n",
    "Y = np.matrix( ???? )\n",
    "A = []\n",
    "phi = []\n",
    "for freq in freqs:\n",
    "    thetas = 2 * np.pi * freq * t\n",
    "    X = np.matrix( ???? )\n",
    "    p = (X.T * X).I * (X.T * Y)\n",
    "    B, C = p.A1\n",
    "    A.append(B / np.abs(B) * np.hypot(B, C))\n",
    "    phi.append(np.arctan(-C / B))\n",
    "A = np.array(A)\n",
    "phi = np.array(phi)"
   ]
  },
  {
   "cell_type": "code",
   "execution_count": null,
   "metadata": {
    "scrolled": true,
    "slideshow": {
     "slide_type": "subslide"
    }
   },
   "outputs": [],
   "source": [
    "plt.bar(f_n, b_n**2, label=r'$b_n^2$')\n",
    "#plt.bar(freqs, A**2 / (A**2).max(), color='none', edgecolor='red', label=r'best-fit $A^2$', lw=3, hatch='//')\n",
    "plt.yscale('log')\n",
    "plt.xlabel('Frequency')\n",
    "plt.ylabel(r'$A^2$')\n",
    "plt.grid()\n",
    "plt.legend();"
   ]
  },
  {
   "cell_type": "markdown",
   "metadata": {
    "slideshow": {
     "slide_type": "slide"
    }
   },
   "source": [
    "## Use $\\chi^2$ values to evaluate the relative power in each frequency"
   ]
  },
  {
   "cell_type": "code",
   "execution_count": null,
   "metadata": {},
   "outputs": [],
   "source": [
    "def get_model(params, freq, times):\n",
    "    A, phi = params\n",
    "    return A * np.cos(2 * np.pi * freq * times + phi)\n",
    "\n",
    "def get_chisq(params, times, freq, values):\n",
    "    model = get_model(params, freq, times)\n",
    "    return np.sum( (values - model)**2 )"
   ]
  },
  {
   "cell_type": "code",
   "execution_count": null,
   "metadata": {
    "slideshow": {
     "slide_type": "subslide"
    }
   },
   "outputs": [],
   "source": [
    "# calculate the chi-square value at each frequency fit\n",
    "chisq = []\n",
    "for i in range(freqs.size):\n",
    "    chisq.append(get_chisq( ???? ))\n",
    "chisq = np.array(chisq)"
   ]
  },
  {
   "cell_type": "code",
   "execution_count": null,
   "metadata": {
    "slideshow": {
     "slide_type": "fragment"
    }
   },
   "outputs": [],
   "source": [
    "# compare chi-square values relative to DC signal\n",
    "chisq0 = ????\n",
    "P = ????"
   ]
  },
  {
   "cell_type": "code",
   "execution_count": null,
   "metadata": {
    "slideshow": {
     "slide_type": "subslide"
    }
   },
   "outputs": [],
   "source": [
    "plt.bar(f_n, b_n**2, label=r'$b_n^2$')\n",
    "plt.bar(freqs, A**2 / (A**2).max(), color='none', edgecolor='red'\n",
    "        , label=r'best-fit $A^2$', lw=3, hatch='//')\n",
    "#plt.bar(freqs, P, label=r'relative $\\chi^2$', color='none', edgecolor='k', lw=3, hatch='\\\\\\\\')\n",
    "plt.yscale('log')\n",
    "plt.xlabel('Frequency')\n",
    "plt.ylabel('Power/Frequency')\n",
    "plt.grid()\n",
    "plt.legend();"
   ]
  },
  {
   "cell_type": "markdown",
   "metadata": {
    "slideshow": {
     "slide_type": "slide"
    }
   },
   "source": [
    "## Application to real data"
   ]
  },
  {
   "cell_type": "code",
   "execution_count": null,
   "metadata": {
    "scrolled": true
   },
   "outputs": [],
   "source": [
    "lc = np.genfromtxt('media/varstar.dat', names='mjd, mag, emag, flag')\n",
    "t = lc['mjd']\n",
    "signal = lc['mag']\n",
    "plt.scatter(t, signal)\n",
    "plt.xlabel('Time (MJD)')\n",
    "plt.ylabel('Magnitude')\n",
    "plt.grid();"
   ]
  },
  {
   "cell_type": "code",
   "execution_count": null,
   "metadata": {
    "slideshow": {
     "slide_type": "subslide"
    }
   },
   "outputs": [],
   "source": [
    "# get the best fit amplitude and phase at each test frequency\n",
    "freqs = ????\n",
    "Y = np.matrix( [[value] for value in signal] )\n",
    "A2, chisq = [], []\n",
    "for freq in freqs:\n",
    "    thetas = 2 * np.pi * freq * t\n",
    "    X = np.matrix( [[np.cos(theta), np.sin(theta)] for theta in thetas] )\n",
    "    p = (X.T * X).I * (X.T * Y)\n",
    "    B, C = p.A1\n",
    "    A = B / np.abs(B) * np.hypot(B, C)\n",
    "    A2.append(A**2)\n",
    "    phi = np.arctan(-C / B)\n",
    "    chisq.append(get_chisq( (A, phi), t, freq, signal))\n",
    "chisq = np.array(chisq)\n",
    "A2 = np.array(A2)\n",
    "chisq0 = np.sum( (signal - np.mean(signal))**2 )\n",
    "P = (chisq0 - chisq) / chisq0"
   ]
  },
  {
   "cell_type": "code",
   "execution_count": null,
   "metadata": {
    "slideshow": {
     "slide_type": "subslide"
    }
   },
   "outputs": [],
   "source": [
    "# plot the power in each frequency\n",
    "plt.plot(freqs, P)\n",
    "plt.xlabel('Frequency')\n",
    "plt.ylabel('Power/Frequency')\n",
    "plt.title('Lomb-Scargle Periodogram')\n",
    "plt.grid();"
   ]
  },
  {
   "cell_type": "markdown",
   "metadata": {
    "slideshow": {
     "slide_type": "slide"
    }
   },
   "source": [
    "## Lomb-Scargle in `astropy`"
   ]
  },
  {
   "cell_type": "code",
   "execution_count": null,
   "metadata": {},
   "outputs": [],
   "source": [
    "import astropy.units as u\n",
    "from astropy.timeseries import LombScargle"
   ]
  },
  {
   "cell_type": "code",
   "execution_count": null,
   "metadata": {
    "slideshow": {
     "slide_type": "subslide"
    }
   },
   "outputs": [],
   "source": [
    "t = lc['mjd'] * u.day\n",
    "mags = lc['mag'] * u.mag\n",
    "ls = LombScargle( ???? )\n",
    "power = ????\n",
    "plt.plot(freqs, power)\n",
    "plt.xlabel('Frequency (1/d)')\n",
    "plt.ylabel('Power/Frequency')\n",
    "plt.grid();"
   ]
  },
  {
   "cell_type": "code",
   "execution_count": null,
   "metadata": {
    "slideshow": {
     "slide_type": "subslide"
    }
   },
   "outputs": [],
   "source": [
    "# include uncertainty\n",
    "ls = LombScargle(t, mags, lc['emag'] * u.mag)\n",
    "\n",
    "# automatically pick test frequencies\n",
    "frequency, power = ????\n",
    "plt.plot(frequency, power)\n",
    "plt.xlim(0, 15)\n",
    "plt.xlabel('Frequency ({})'.format(frequency[0].unit))\n",
    "plt.ylabel('Power/Frequency')\n",
    "plt.grid();"
   ]
  },
  {
   "cell_type": "markdown",
   "metadata": {
    "slideshow": {
     "slide_type": "slide"
    }
   },
   "source": [
    "## Interpreting the periodogram to determine the period"
   ]
  },
  {
   "cell_type": "markdown",
   "metadata": {},
   "source": [
    "- start with the 1 over the frequency with the maximum power\n",
    "- but remember this is the sinusoid that best fits the data\n",
    "  - your signal may not be a sinusoid!"
   ]
  },
  {
   "cell_type": "code",
   "execution_count": null,
   "metadata": {
    "slideshow": {
     "slide_type": "subslide"
    }
   },
   "outputs": [],
   "source": [
    "period = ????\n",
    "phase = t % period\n",
    "plt.scatter(phase, mags)\n",
    "plt.gca().invert_yaxis()\n",
    "plt.grid()\n",
    "plt.xlabel('Phase ({})'.format(phase.unit))\n",
    "plt.ylabel('Magnitude')"
   ]
  }
 ],
 "metadata": {
  "kernelspec": {
   "display_name": "Python 3",
   "language": "python",
   "name": "python3"
  },
  "language_info": {
   "codemirror_mode": {
    "name": "ipython",
    "version": 3
   },
   "file_extension": ".py",
   "mimetype": "text/x-python",
   "name": "python",
   "nbconvert_exporter": "python",
   "pygments_lexer": "ipython3",
   "version": "3.6.10"
  },
  "livereveal": {
   "scroll": "True",
   "start_slideshow_at": "selected"
  }
 },
 "nbformat": 4,
 "nbformat_minor": 1
}
